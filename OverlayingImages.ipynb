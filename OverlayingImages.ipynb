{
 "cells": [
  {
   "cell_type": "code",
   "execution_count": 4,
   "metadata": {
    "collapsed": false
   },
   "outputs": [],
   "source": [
    "import matplotlib.pyplot as plt\n",
    "import numpy as np\n",
    "import Image\n",
    "\n",
    "from mpl_toolkits.basemap import Basemap\n",
    "from matplotlib.offsetbox import OffsetImage, AnnotationBbox\n",
    "\n",
    "# Set up the basemap and plot the markers.\n",
    "lats = np.arange(26, 29, 0.5)\n",
    "lons = np.arange(-90, -87, 0.5)\n",
    "\n",
    "m = Basemap(projection='cyl',\n",
    "            llcrnrlon=min(lons) - 2, llcrnrlat=min(lats) - 2,\n",
    "            urcrnrlon=max(lons) + 2, urcrnrlat=max(lats) + 2,\n",
    "            resolution='i')\n",
    "\n",
    "x,y = m(lons,lats)\n",
    "u,v, = np.arange(0,51,10), np.arange(0,51,10)\n",
    "barbs = m.barbs(x,y,u,v)\n",
    "\n",
    "m.drawcoastlines()\n",
    "m.drawcountries()\n",
    "m.drawstates()\n",
    "\n",
    "# Add the plane marker at the last point.\n",
    "plane = np.array(Image.open('baymax.jpeg'))\n",
    "im = OffsetImage(plane, zoom=1)\n",
    "ab = AnnotationBbox(im, (x[-1],y[-1]), xycoords='data', frameon=False)\n",
    "\n",
    "# Get the axes object from the basemap and add the AnnotationBbox artist\n",
    "m._check_ax().add_artist(ab)\n",
    "\n",
    "plt.show()"
   ]
  },
  {
   "cell_type": "code",
   "execution_count": null,
   "metadata": {
    "collapsed": true
   },
   "outputs": [],
   "source": []
  }
 ],
 "metadata": {
  "kernelspec": {
   "display_name": "Python 2",
   "language": "python",
   "name": "python2"
  },
  "language_info": {
   "codemirror_mode": {
    "name": "ipython",
    "version": 2
   },
   "file_extension": ".py",
   "mimetype": "text/x-python",
   "name": "python",
   "nbconvert_exporter": "python",
   "pygments_lexer": "ipython2",
   "version": "2.7.6"
  }
 },
 "nbformat": 4,
 "nbformat_minor": 0
}
