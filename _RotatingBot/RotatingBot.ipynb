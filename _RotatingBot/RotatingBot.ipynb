{
 "cells": [
  {
   "cell_type": "code",
   "execution_count": 10,
   "metadata": {
    "collapsed": false
   },
   "outputs": [
    {
     "name": "stdout",
     "output_type": "stream",
     "text": [
      "integrating...\n",
      "done\n",
      "1.03037682652\n",
      "2.08994244104\n"
     ]
    }
   ],
   "source": [
    "from numpy import sin, cos, pi, array\n",
    "import numpy as np\n",
    "import matplotlib.pyplot as plt\n",
    "import scipy.integrate as integrate\n",
    "import matplotlib.animation as animation\n",
    "import math\n",
    "\n",
    "\n",
    "metadata = dict(title='Plane', artist='Pete Florence',\n",
    "        comment='Fly time')\n",
    "writer = animation.AVConvWriter(fps=20, metadata=metadata, bitrate=500)\n",
    "\n",
    "\n",
    "# constant velocity\n",
    "v = 1\n",
    "\n",
    "def derivs(state, t):\n",
    "\n",
    "    dqdt = np.zeros_like(state)\n",
    "    \n",
    "    u = np.cos(state[2])\n",
    "    \n",
    "    dqdt[0] = 0 # rotating laser bot can't move\n",
    "    \n",
    "    dqdt[1] = 0 # rotating laser bot can't move\n",
    "\n",
    "    dqdt[2] = u # constant for now, but later will be u\n",
    "\n",
    "    return dqdt\n",
    "\n",
    "# create a time array from 0...30 sampled at 0.05 second steps\n",
    "dt = 0.05\n",
    "t = np.arange(0.0, 20, dt)\n",
    "\n",
    "# initial positions\n",
    "# x and y are position of origin.  We move the origin, not the plane, so that the plane stays in the same spot in the plot.\n",
    "# psi is yaw, and psidot is yawdot of plane\n",
    "x = 0.0\n",
    "y = 0.0\n",
    "psi = -10.0\n",
    "\n",
    "rad = pi/180.0\n",
    "\n",
    "# initial state\n",
    "state = np.array([x, y, psi*rad])\n",
    "\n",
    "print \"integrating...\"\n",
    "# integrate your ODE using scipy.integrate.\n",
    "y = integrate.odeint(derivs, state, t)\n",
    "print \"done\"\n",
    "\n",
    "xworld = y[:,0]\n",
    "yworld = y[:,1]\n",
    "psiworld = y[:,2]\n",
    "\n",
    "x_obj1_init = 3\n",
    "y_obj1_init = 5\n",
    "theta_obj1_init = math.atan2(y_obj1_init,x_obj1_init)\n",
    "print theta_obj1_init\n",
    "\n",
    "radius_obj1 = math.sqrt(x_obj1_init**2 + y_obj1_init**2)\n",
    "\n",
    "theta_obj1 = psiworld + theta_obj1_init\n",
    "x_obj1 = xworld + radius_obj1*np.cos(theta_obj1)\n",
    "y_obj1 = yworld + radius_obj1*np.sin(theta_obj1)\n",
    "\n",
    "\n",
    "\n",
    "x_obj2_init = -4\n",
    "y_obj2_init = 7\n",
    "theta_obj2_init = math.atan2(y_obj2_init,x_obj2_init)\n",
    "print theta_obj2_init\n",
    "\n",
    "radius_obj2 = math.sqrt(x_obj2_init**2 + y_obj2_init**2)\n",
    "\n",
    "theta_obj2 = psiworld + theta_obj2_init\n",
    "x_obj2 = xworld + radius_obj2*np.cos(theta_obj2)\n",
    "y_obj2 = yworld + radius_obj2*np.sin(theta_obj2)"
   ]
  },
  {
   "cell_type": "code",
   "execution_count": 11,
   "metadata": {
    "collapsed": false
   },
   "outputs": [],
   "source": [
    "%matplotlib qt\n",
    "plt.rcParams['figure.figsize'] = 10, 10\n",
    "fig = plt.figure()\n",
    "ax = fig.add_subplot(111, autoscale_on=False, xlim=(-15, 15), ylim=(-15, 15))\n",
    "#ax.grid()\n",
    "\n",
    "#S_max\n",
    "S_max_t = np.linspace(-math.pi,math.pi,100)\n",
    "S_max_x = 14*np.cos(S_max_t)\n",
    "S_max_y = 14*np.sin(S_max_t)\n",
    "\n",
    "\n",
    "im = plt.imread('bot.jpg')\n",
    "newax = fig.add_axes([0.477, 0.46, 0.07, 0.1], anchor='SW')\n",
    "newax.imshow(im)\n",
    "newax.axis('off')\n",
    "ax.set_aspect('equal', 'datalim')\n",
    "     \n",
    "S_max, = ax.plot([], [], '--' , lw=1, color='blue')   \n",
    "FOV, = ax.plot([], [], '--' , lw=1, color='blue')\n",
    "line, = ax.plot([], [], 'o', lw=2, color='red')\n",
    "time_template = 'time = %.1fs'\n",
    "time_text = ax.text(0.05, 0.9, '', transform=ax.transAxes)\n",
    "\n",
    "def init():\n",
    "    S_max.set_data([], [])\n",
    "    line.set_data([], [])\n",
    "    time_text.set_text('')\n",
    "    return line, time_text\n",
    "\n",
    "def animate(i):\n",
    "    thisx = [xworld[i], x_obj1[i], x_obj2[i]]\n",
    "    thisy = [yworld[i], y_obj1[i], y_obj2[i]]\n",
    "    \n",
    "    #thisx = [3, -4]\n",
    "    #thisy = [4, 10]\n",
    "\n",
    "    S_max.set_data(S_max_x,S_max_y)\n",
    "    line.set_data(thisx, thisy)\n",
    "    time_text.set_text(time_template%(i*dt))\n",
    "    return line, time_text\n",
    "\n",
    "ani = animation.FuncAnimation(fig, animate, np.arange(1, len(y)),\n",
    "    interval=20, blit=False, init_func=init)\n",
    "#ani.save('bot.mp4', fps=20, bitrate=5000, codec=\"h264\", writer=writer)\n",
    "plt.show()"
   ]
  },
  {
   "cell_type": "code",
   "execution_count": 44,
   "metadata": {
    "collapsed": false
   },
   "outputs": [
    {
     "name": "stdout",
     "output_type": "stream",
     "text": [
      "3 4\n",
      "3 4\n",
      "Obstacle 1 center:\n",
      "3 4\n",
      "Obstacle 2 center:\n",
      "-3 2\n"
     ]
    }
   ],
   "source": [
    "class ObstacleField:\n",
    "\n",
    "    def __init__(self):\n",
    "        self.ObstaclesList = []\n",
    "        \n",
    "    def addObstacle(self,obstacle):\n",
    "        self.ObstaclesList.append(obstacle)\n",
    "    \n",
    "    def printObstacles(self):\n",
    "        counter = 1\n",
    "        for i in self.ObstaclesList:\n",
    "            print \"Obstacle \" + str(counter) + \" center:\"\n",
    "            i.printCenter()\n",
    "            counter += 1\n",
    "        \n",
    "\n",
    "class Obstacle:\n",
    "    \n",
    "    def __init__(self,x,y):\n",
    "        self.centerX = x\n",
    "        self.centerY = y\n",
    "        self.radius = 1\n",
    "        \n",
    "    def printCenter(self):\n",
    "        print self.centerX, self.centerY\n",
    "        \n",
    "    def plotLists(self):\n",
    "        \n",
    "        t = np.linspace(-math.pi,math.pi,100)\n",
    "        x = self.radius*np.cos(S_max_t) + self.centerX\n",
    "        y = self.radius*np.sin(S_max_t) + self.centerY\n",
    "        return x, y\n",
    "        \n",
    "        \n",
    "\n",
    "\n",
    "obs1 = Obstacle(3,4)\n",
    "obs1.printCenter()\n",
    "xlist, ylist = obs1.plotLists()\n",
    "\n",
    "obs2 = Obstacle(-3,2)\n",
    "obs1.printCenter()\n",
    "xlist, ylist = obs1.plotLists()\n",
    "\n",
    "#%matplotlib inline\n",
    "#plt.plot(xlist,ylist)\n",
    "#plt.show()\n",
    "\n",
    "\n",
    "obsField = ObstacleField()\n",
    "obsField.addObstacle(obs1)\n",
    "obsField.addObstacle(obs2)\n",
    "obsField.printObstacles()"
   ]
  },
  {
   "cell_type": "code",
   "execution_count": 21,
   "metadata": {
    "collapsed": true
   },
   "outputs": [],
   "source": [
    "alist = []\n",
    "alist.append(1)"
   ]
  },
  {
   "cell_type": "code",
   "execution_count": 6,
   "metadata": {
    "collapsed": false
   },
   "outputs": [
    {
     "data": {
      "text/plain": [
       "0"
      ]
     },
     "execution_count": 6,
     "metadata": {},
     "output_type": "execute_result"
    }
   ],
   "source": [
    "import os\n",
    "if os.path.exists(os.path.join(os.curdir, \"bot_h264.mp4\")):\n",
    "    os.system(\"rm bot_h264.mp4\")\n",
    "os.system(\"avconv -i bot.mp4 -c:v h264 -c:a copy bot_h264.mp4\")"
   ]
  },
  {
   "cell_type": "code",
   "execution_count": 7,
   "metadata": {
    "collapsed": false
   },
   "outputs": [
    {
     "data": {
      "text/html": [
       "<video alt=\"test\" controls>\n",
       "                <source src=\"data:video/mp4;base64,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\" type=\"video/mp4\" />\n",
       "             </video>"
      ],
      "text/plain": [
       "<IPython.core.display.HTML object>"
      ]
     },
     "execution_count": 7,
     "metadata": {},
     "output_type": "execute_result"
    }
   ],
   "source": [
    "import os\n",
    "import io\n",
    "import base64\n",
    "from IPython.display import HTML\n",
    "\n",
    "video = io.open('/Users/pflomacpro/GeometricPDEs/_RotatingLaserBot/bot_h264.mp4', 'r+b').read()\n",
    "encoded = base64.b64encode(video)\n",
    "HTML(data='''<video alt=\"test\" controls>\n",
    "                <source src=\"data:video/mp4;base64,{0}\" type=\"video/mp4\" />\n",
    "             </video>'''.format(encoded.decode('ascii')))"
   ]
  },
  {
   "cell_type": "code",
   "execution_count": null,
   "metadata": {
    "collapsed": true
   },
   "outputs": [],
   "source": []
  }
 ],
 "metadata": {
  "kernelspec": {
   "display_name": "Python 2",
   "language": "python",
   "name": "python2"
  },
  "language_info": {
   "codemirror_mode": {
    "name": "ipython",
    "version": 2
   },
   "file_extension": ".py",
   "mimetype": "text/x-python",
   "name": "python",
   "nbconvert_exporter": "python",
   "pygments_lexer": "ipython2",
   "version": "2.7.10"
  }
 },
 "nbformat": 4,
 "nbformat_minor": 0
}
