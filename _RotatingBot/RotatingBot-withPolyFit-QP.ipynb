{
 "cells": [
  {
   "cell_type": "code",
   "execution_count": 1,
   "metadata": {
    "collapsed": false
   },
   "outputs": [
    {
     "name": "stdout",
     "output_type": "stream",
     "text": [
      "integrating...\n",
      "done\n"
     ]
    }
   ],
   "source": [
    "from numpy import sin, cos, pi, array\n",
    "import numpy as np\n",
    "import matplotlib.pyplot as plt\n",
    "import scipy.integrate as integrate\n",
    "import matplotlib.animation as animation\n",
    "import math\n",
    "\n",
    "\n",
    "metadata = dict(title='Rotating Bot', artist='Pete Florence',\n",
    "        comment='Rotate time')\n",
    "writer = animation.AVConvWriter(fps=20, metadata=metadata, bitrate=5000)\n",
    "\n",
    "\n",
    "# constant velocity\n",
    "v = 1\n",
    "\n",
    "def derivs(state, t):\n",
    "\n",
    "    dqdt = np.zeros_like(state)\n",
    "    \n",
    "    u = np.cos(state[2])\n",
    "    \n",
    "    dqdt[0] = 0 # rotating laser bot can't move\n",
    "    \n",
    "    dqdt[1] = 0 # rotating laser bot can't move\n",
    "\n",
    "    dqdt[2] = 0.2 # constant for now, but later will be u\n",
    "    #dqdt[2] = sin(t) # constant for now, but later will be u\n",
    "\n",
    "    return dqdt\n",
    "\n",
    "# create a time array from 0...30 sampled at 0.05 second steps\n",
    "dt = 0.05\n",
    "t = np.arange(0.0, 5, dt)\n",
    "\n",
    "# initial positions\n",
    "# x and y are position of origin.  We move the origin, not the plane, so that the plane stays in the same spot in the plot.\n",
    "# psi is yaw, and psidot is yawdot of plane\n",
    "x = 0.0\n",
    "y = 0.0\n",
    "psi = -10.0\n",
    "\n",
    "rad = pi/180.0\n",
    "\n",
    "# initial state\n",
    "state = np.array([x, y, psi*rad])\n",
    "\n",
    "print \"integrating...\"\n",
    "# integrate your ODE using scipy.integrate.\n",
    "y = integrate.odeint(derivs, state, t)\n",
    "print \"done\"\n",
    "\n",
    "xworld = y[:,0]\n",
    "yworld = y[:,1]\n",
    "psiworld = y[:,2]\n",
    "\n",
    "from ObstacleField import ObstacleField\n",
    "from Obstacle import Obstacle\n",
    "\n",
    "obsField = ObstacleField()\n",
    "obsField.randomField(M=11)\n",
    "for i in obsField.ObstaclesList:\n",
    "    i.computeTraj(psiworld,xworld,yworld)"
   ]
  },
  {
   "cell_type": "code",
   "execution_count": 2,
   "metadata": {
    "collapsed": false
   },
   "outputs": [
    {
     "data": {
      "image/png": "[encoded data removed]",
      "text/plain": [
       "<matplotlib.figure.Figure at 0x107d2ea10>"
      ]
     },
     "metadata": {},
     "output_type": "display_data"
    }
   ],
   "source": [
    "# Add laser\n",
    "from LineCircleIntersect import intersect\n",
    "laserLines = []\n",
    "approxLines = []\n",
    "D = 100 # Number of discrete data points from laser\n",
    "laseAngles = np.linspace(-math.pi,math.pi,D+1)[0:D]\n",
    "\n",
    "#S_max\n",
    "S_maxdist = 14\n",
    "S_max_t = np.linspace(-math.pi,math.pi,100)\n",
    "S_max_x = S_maxdist*np.cos(S_max_t)\n",
    "S_max_y = S_maxdist*np.sin(S_max_t)\n",
    "\n",
    "xlist = []\n",
    "ylist = []\n",
    "\n",
    "laserDepths = laseAngles * 0.0\n",
    "\n",
    "\n",
    "# Find laser depths at a certain point in time\n",
    "# Need to not have this code copied\n",
    "i = 0\n",
    "for lasenum in range(len(laseAngles)):\n",
    "\n",
    "    x_laser_endpoint = S_maxdist*math.cos(laseAngles[lasenum])\n",
    "    y_laser_endpoint = S_maxdist*math.sin(laseAngles[lasenum])\n",
    "\n",
    "    origin = np.array((0,0))\n",
    "    laser_endpoint = np.array((x_laser_endpoint,y_laser_endpoint))\n",
    "    for obs in obsField.ObstaclesList:\n",
    "        Q = np.array((obs.xtraj[i],obs.ytraj[i]))\n",
    "        r = obs.radius\n",
    "        _, pt = intersect(origin,laser_endpoint,Q,r)\n",
    "        if pt is not None:\n",
    "            if (pt[0]**2 + pt[1]**2 < x_laser_endpoint**2 + y_laser_endpoint**2):\n",
    "                x_laser_endpoint = pt[0]\n",
    "                y_laser_endpoint = pt[1]\n",
    "\n",
    "    depth = math.sqrt(x_laser_endpoint**2 + y_laser_endpoint**2)\n",
    "    laserDepths[lasenum] = depth\n",
    "\n",
    " \n",
    "%matplotlib inline\n",
    "from coordTransforms import transformStandardPolarTheta_to_PlaneTheta\n",
    "laseAngles2 = laseAngles * 0\n",
    "for i in range(len(laseAngles)):\n",
    "    laseAngles2[i] = transformStandardPolarTheta_to_PlaneTheta(laseAngles[i])\n",
    "\n",
    "plt.plot(laseAngles2,laserDepths,'.')\n",
    "plt.xlabel(r'$\\theta_{plane coord}$')\n",
    "plt.ylabel(r'$s(\\theta)$')\n",
    "plt.axis([-4, 4, 0, 15])\n",
    "plt.show()\n",
    "\n",
    "import csv\n",
    "with open('laserdata.csv', 'wb') as csvfile:\n",
    "    laserwriter = csv.writer(csvfile, delimiter=',',\n",
    "                            quotechar='|', quoting=csv.QUOTE_MINIMAL)\n",
    "    for i in range(len(laserDepths)):\n",
    "        laserwriter.writerow([laseAngles2[i], laserDepths[i]])"
   ]
  },
  {
   "cell_type": "code",
   "execution_count": 11,
   "metadata": {
    "collapsed": false
   },
   "outputs": [
    {
     "name": "stdout",
     "output_type": "stream",
     "text": [
      "(100, 13)\n",
      "weighted numpy polynomial regression weights for N = 12\n",
      "[  9.78845643e+00   3.77275548e+00   6.09062763e+00  -6.28066877e+00\n",
      "  -5.12351541e+00   3.53737680e+00   1.44895874e+00  -8.78756144e-01\n",
      "  -2.16040235e-01   1.00144628e-01   1.75612346e-02  -4.23015321e-03\n",
      "  -5.79837607e-04]\n"
     ]
    },
    {
     "data": {
      "image/png": "[encoded data removed]",
      "text/plain": [
       "<matplotlib.figure.Figure at 0x1129b3d50>"
      ]
     },
     "metadata": {},
     "output_type": "display_data"
    },
    {
     "data": {
      "image/png": "[encoded data removed]",
      "text/plain": [
       "<matplotlib.figure.Figure at 0x1129b3ad0>"
      ]
     },
     "metadata": {},
     "output_type": "display_data"
    }
   ],
   "source": [
    "import scipy.optimize as opt\n",
    "from linear_regression import LinearRegression\n",
    "\n",
    "def plot(lr,w):\n",
    "    # plot sin(2*phi*x) in green\n",
    "    x = np.linspace(-math.pi+0.2,math.pi-0.2,1000)\n",
    "    lr_temp = LinearRegression(x,x,lr.numFeatures-1)\n",
    "    reg_prediction = np.dot(lr_temp.phi,w)\n",
    "    plt.plot(x, reg_prediction, color='r')\n",
    "    plt.scatter(lr.x, lr.y, color='b', marker='o',facecolors='none')\n",
    "    plt.xlabel('x')\n",
    "    plt.ylabel('y')\n",
    "    plt.show()\n",
    "    \n",
    "\n",
    "\n",
    "N = 12\n",
    "lr = LinearRegression(laseAngles2,laserDepths,N)\n",
    "print np.shape(lr.phi)\n",
    "\n",
    "print \"weighted numpy polynomial regression weights for N = \" + str(N)\n",
    "weights = laserDepths * 1.0\n",
    "#print weights\n",
    "for index, value in enumerate(weights):\n",
    "    weights[index] = (1/value)**4\n",
    "#print weights\n",
    "# an attempt to weight things in front more heavily \n",
    "# weights[len(weights)/4:3*len(weights)/4] = 10.0\n",
    "w = np.polynomial.polynomial.polyfit(laseAngles2, laserDepths, N, w=weights)\n",
    "print w\n",
    "plot(lr,w)\n",
    "\n",
    "def horner(x, weights):\n",
    "    coefficients = weights[::-1]\n",
    "    result = 0\n",
    "    for i in coefficients:\n",
    "        result = result * x + i\n",
    "    return result\n",
    "\n",
    "# def evalPoly(x, weights):\n",
    "#     result = 0.0\n",
    "#     for i in range(len(weights)):\n",
    "#         result = result + weights[i] * (x**i)\n",
    "#     return result\n",
    "\n",
    "def plotHorner(w):\n",
    "    x = np.linspace(-math.pi+0.2,math.pi-0.2,1000)\n",
    "    y = x * 0.0\n",
    "    for index,val in enumerate(y):\n",
    "        y[index] = horner(x[index],w)\n",
    "    plt.plot(x,y)\n",
    "    plt.axis([-3.14, 3.14, 0, 20])\n",
    "    plt.show()\n",
    "    \n",
    "plotHorner(w)"
   ]
  },
  {
   "cell_type": "code",
   "execution_count": 29,
   "metadata": {
    "collapsed": false
   },
   "outputs": [
    {
     "name": "stdout",
     "output_type": "stream",
     "text": [
      "(100, 13)\n",
      "(13, 100)\n",
      "(100, 100)\n",
      "(13, 13)\n"
     ]
    }
   ],
   "source": [
    "# Define matrices that then I will need\n",
    "\n",
    "\n",
    "def setUpQP():\n",
    "    \n",
    "    #A = feature matrix\n",
    "    \n",
    "    lr = LinearRegression(laseAngles2,laserDepths,N)\n",
    "    A_pete = lr.phi\n",
    "    \n",
    "    #W = weighting matrix\n",
    "    weights = laserDepths * 1.0\n",
    "    for index, value in enumerate(weights):\n",
    "        weights[index] = (1/value)**4\n",
    "    W_pete = np.diag(weights)\n",
    "    \n",
    "    #b = vector of sensor measurements\n",
    "    b_pete = laserDepths\n",
    "    \n",
    "    return np.matrix(A_pete), np.matrix(W_pete), np.matrix(b_pete)\n",
    "    \n",
    "A_pete, W_pete, b_pete = setUpQP()\n",
    "\n",
    "print np.shape(A_pete)\n",
    "print np.shape(A_pete.T)\n",
    "print np.shape(A_pete * A_pete.T)\n",
    "print np.shape(A_pete.T * A_pete)\n",
    "\n",
    "\n"
   ]
  },
  {
   "cell_type": "code",
   "execution_count": 43,
   "metadata": {
    "collapsed": false
   },
   "outputs": [
    {
     "name": "stdout",
     "output_type": "stream",
     "text": [
      "     pcost       dcost       gap    pres   dres\n",
      " 0: -3.1536e+04 -1.5352e+04  8e+03  2e+00  3e-13\n",
      " 1: -1.2915e+04 -1.3868e+04  3e+03  1e-01  1e-13\n",
      " 2: -1.2027e+04 -1.2912e+04  1e+03  2e-02  3e-13\n",
      " 3: -1.2314e+04 -1.2526e+04  3e+02  3e-03  9e-14\n",
      " 4: -1.2326e+04 -1.2449e+04  1e+02  1e-03  3e-12\n",
      " 5: -1.2346e+04 -1.2374e+04  3e+01  2e-04  8e-12\n",
      " 6: -1.2353e+04 -1.2356e+04  3e+00  2e-05  1e-11\n",
      " 7: -1.2354e+04 -1.2354e+04  1e-01  5e-07  4e-13\n",
      " 8: -1.2354e+04 -1.2354e+04  1e-03  5e-09  3e-12\n",
      "Optimal solution found.\n",
      "[[  1.35707597e+01]\n",
      " [  5.44504333e+00]\n",
      " [ -1.64536249e+01]\n",
      " [ -5.10335089e+00]\n",
      " [  1.72119106e+01]\n",
      " [  9.95438682e-01]\n",
      " [ -6.87735523e+00]\n",
      " [  4.36202725e-02]\n",
      " [  1.22108537e+00]\n",
      " [ -2.21184897e-02]\n",
      " [ -9.85745007e-02]\n",
      " [  1.23904848e-03]\n",
      " [  2.96731811e-03]]\n"
     ]
    },
    {
     "data": {
      "image/png": "[encoded data removed]",
      "text/plain": [
       "<matplotlib.figure.Figure at 0x1124fb9d0>"
      ]
     },
     "metadata": {},
     "output_type": "display_data"
    },
    {
     "data": {
      "image/png": "[encoded data removed]",
      "text/plain": [
       "<matplotlib.figure.Figure at 0x113038150>"
      ]
     },
     "metadata": {},
     "output_type": "display_data"
    }
   ],
   "source": [
    "import cvxopt\n",
    "\n",
    "# P = A^T W A\n",
    "P = cvxopt.matrix(A_pete.T * W_pete * A_pete)\n",
    "\n",
    "# q^T = -b^T A\n",
    "# q = -A^T b\n",
    "q = cvxopt.matrix(- A_pete.T * b_pete.T)\n",
    "\n",
    "# G = A\n",
    "G = cvxopt.matrix(A_pete)\n",
    "\n",
    "# h = b_pete\n",
    "h = cvxopt.matrix(b_pete.T)\n",
    "\n",
    "A_zeros = np.copy(A_pete)\n",
    "A_zeros[::] = 0\n",
    "\n",
    "b_zeros = np.copy(b_pete)\n",
    "b_zeros[:] = 0\n",
    "\n",
    "A = cvxopt.matrix(A_zeros)\n",
    "b = cvxopt.matrix(b_zeros.T)\n",
    "\n",
    "# find the solution \n",
    "solution = cvxopt.solvers.qp(P, q, G, h)\n",
    "\n",
    "alpha = np.array(solution['x'])\n",
    "\n",
    "print alpha\n",
    "\n",
    "def plotHorner(w):\n",
    "    x = np.linspace(-math.pi+0.2,math.pi-0.2,1000)\n",
    "    y = x * 0.0\n",
    "    for index,val in enumerate(y):\n",
    "        y[index] = horner(x[index],w)\n",
    "    plt.plot(x,y)\n",
    "    plt.axis([-3.14, 3.14, 0, 20])\n",
    "    plt.show()\n",
    "    \n",
    "plotHorner(alpha)\n",
    "\n",
    "\n",
    "def plotConstrained(w):\n",
    "    x = np.linspace(-math.pi+0.2,math.pi-0.2,1000)\n",
    "    y = x * 0.0\n",
    "    for index,val in enumerate(y):\n",
    "        y[index] = horner(x[index],w)\n",
    "    plt.plot(x,y, color='r')\n",
    "    plt.scatter(laseAngles2, laserDepths, color='b', marker='o',facecolors='none')\n",
    "    plt.xlabel('x')\n",
    "    plt.ylabel('y')\n",
    "    plt.show()\n",
    "    \n",
    "plotConstrained(alpha)    \n"
   ]
  },
  {
   "cell_type": "code",
   "execution_count": null,
   "metadata": {
    "collapsed": true
   },
   "outputs": [],
   "source": []
  }
 ],
 "metadata": {
  "kernelspec": {
   "display_name": "Python 2",
   "language": "python",
   "name": "python2"
  },
  "language_info": {
   "codemirror_mode": {
    "name": "ipython",
    "version": 2
   },
   "file_extension": ".py",
   "mimetype": "text/x-python",
   "name": "python",
   "nbconvert_exporter": "python",
   "pygments_lexer": "ipython2",
   "version": "2.7.10"
  }
 },
 "nbformat": 4,
 "nbformat_minor": 0
}
