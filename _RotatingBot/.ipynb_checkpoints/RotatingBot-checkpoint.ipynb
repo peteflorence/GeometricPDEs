{
 "cells": [
  {
   "cell_type": "code",
   "execution_count": 1,
   "metadata": {
    "collapsed": false
   },
   "outputs": [
    {
     "name": "stdout",
     "output_type": "stream",
     "text": [
      "integrating...\n",
      "done\n"
     ]
    }
   ],
   "source": [
    "from numpy import sin, cos, pi, array\n",
    "import numpy as np\n",
    "import matplotlib.pyplot as plt\n",
    "import scipy.integrate as integrate\n",
    "import matplotlib.animation as animation\n",
    "import math\n",
    "\n",
    "\n",
    "metadata = dict(title='Rotating Bot', artist='Pete Florence',\n",
    "        comment='Rotate time')\n",
    "writer = animation.AVConvWriter(fps=20, metadata=metadata, bitrate=5000)\n",
    "\n",
    "\n",
    "# constant velocity\n",
    "v = 1\n",
    "\n",
    "def derivs(state, t):\n",
    "\n",
    "    dqdt = np.zeros_like(state)\n",
    "    \n",
    "    u = np.cos(state[2])\n",
    "    \n",
    "    dqdt[0] = 0 # rotating laser bot can't move\n",
    "    \n",
    "    dqdt[1] = 0 # rotating laser bot can't move\n",
    "\n",
    "    dqdt[2] = sin(t) # constant for now, but later will be u\n",
    "\n",
    "    return dqdt\n",
    "\n",
    "# create a time array from 0...30 sampled at 0.05 second steps\n",
    "dt = 0.05\n",
    "t = np.arange(0.0, 5, dt)\n",
    "\n",
    "# initial positions\n",
    "# x and y are position of origin.  We move the origin, not the plane, so that the plane stays in the same spot in the plot.\n",
    "# psi is yaw, and psidot is yawdot of plane\n",
    "x = 0.0\n",
    "y = 0.0\n",
    "psi = -10.0\n",
    "\n",
    "rad = pi/180.0\n",
    "\n",
    "# initial state\n",
    "state = np.array([x, y, psi*rad])\n",
    "\n",
    "print \"integrating...\"\n",
    "# integrate your ODE using scipy.integrate.\n",
    "y = integrate.odeint(derivs, state, t)\n",
    "print \"done\"\n",
    "\n",
    "xworld = y[:,0]\n",
    "yworld = y[:,1]\n",
    "psiworld = y[:,2]\n",
    "\n",
    "from ObstacleField import ObstacleField\n",
    "from Obstacle import Obstacle\n",
    "\n",
    "obsField = ObstacleField()\n",
    "obsField.randomField(M=7)\n",
    "for i in obsField.ObstaclesList:\n",
    "    i.computeTraj(psiworld,xworld,yworld)"
   ]
  },
  {
   "cell_type": "code",
   "execution_count": 2,
   "metadata": {
    "collapsed": false
   },
   "outputs": [
    {
     "data": {
      "image/png": "[encoded data removed]",
      "text/plain": [
       "<matplotlib.figure.Figure at 0x10a5c8950>"
      ]
     },
     "metadata": {},
     "output_type": "display_data"
    }
   ],
   "source": [
    "# Add laser\n",
    "from LineCircleIntersect import intersect\n",
    "laserLines = []\n",
    "D = 100 # Number of discrete data points from laser\n",
    "laseAngles = np.linspace(-math.pi,math.pi,D+1)[0:D]\n",
    "\n",
    "#S_max\n",
    "S_maxdist = 14\n",
    "S_max_t = np.linspace(-math.pi,math.pi,100)\n",
    "S_max_x = S_maxdist*np.cos(S_max_t)\n",
    "S_max_y = S_maxdist*np.sin(S_max_t)\n",
    "\n",
    "xlist = []\n",
    "ylist = []\n",
    "\n",
    "laserDepths = laseAngles * 0.0\n",
    "\n",
    "\n",
    "# Find laser depths at a certain point in time\n",
    "# Need to not have this code copied\n",
    "i = 0\n",
    "for lasenum in range(len(laseAngles)):\n",
    "\n",
    "    x_laser_endpoint = S_maxdist*math.cos(laseAngles[lasenum])\n",
    "    y_laser_endpoint = S_maxdist*math.sin(laseAngles[lasenum])\n",
    "\n",
    "    origin = np.array((0,0))\n",
    "    laser_endpoint = np.array((x_laser_endpoint,y_laser_endpoint))\n",
    "    for obs in obsField.ObstaclesList:\n",
    "        Q = np.array((obs.xtraj[i],obs.ytraj[i]))\n",
    "        r = obs.radius\n",
    "        _, pt = intersect(origin,laser_endpoint,Q,r)\n",
    "        if pt is not None:\n",
    "            if (pt[0]**2 + pt[1]**2 < x_laser_endpoint**2 + y_laser_endpoint**2):\n",
    "                x_laser_endpoint = pt[0]\n",
    "                y_laser_endpoint = pt[1]\n",
    "\n",
    "    depth = math.sqrt(x_laser_endpoint**2 + y_laser_endpoint**2)\n",
    "    laserDepths[lasenum] = depth\n",
    "\n",
    " \n",
    "%matplotlib inline\n",
    "from coordTransforms import transformStandardPolarTheta_to_PlaneTheta\n",
    "laseAngles2 = laseAngles * 0\n",
    "for i in range(len(laseAngles)):\n",
    "    laseAngles2[i] = transformStandardPolarTheta_to_PlaneTheta(laseAngles[i])\n",
    "\n",
    "plt.plot(laseAngles2,laserDepths,'.')\n",
    "plt.xlabel(r'$\\theta_{plane coord}$')\n",
    "plt.ylabel(r'$s(\\theta)$')\n",
    "plt.axis([-4, 4, 0, 15])\n",
    "plt.show()\n",
    "\n",
    "import csv\n",
    "with open('laserdata.csv', 'wb') as csvfile:\n",
    "    laserwriter = csv.writer(csvfile, delimiter=',',\n",
    "                            quotechar='|', quoting=csv.QUOTE_MINIMAL)\n",
    "    for i in range(len(laserDepths)):\n",
    "        laserwriter.writerow([laseAngles2[i], laserDepths[i]])"
   ]
  },
  {
   "cell_type": "code",
   "execution_count": 3,
   "metadata": {
    "collapsed": false
   },
   "outputs": [],
   "source": [
    "import os\n",
    "os.system(\"rm bot.mp4\")\n",
    "%matplotlib qt\n",
    "plt.rcParams['figure.figsize'] = 10, 10\n",
    "fig = plt.figure()\n",
    "ax = fig.add_subplot(111, autoscale_on=False, xlim=(-15, 15), ylim=(-15, 15))\n",
    "#ax = fig.add_subplot(121, autoscale_on=False, xlim=(-4, 4), ylim=(0, 16))\n",
    "#ax.grid()\n",
    "\n",
    "im = plt.imread('bot.png')\n",
    "newax = fig.add_axes([0.477, 0.46, 0.07, 0.1], anchor='SW')\n",
    "newax.imshow(im)\n",
    "newax.axis('off')\n",
    "ax.set_aspect('equal', 'datalim')\n",
    "     \n",
    "S_max, = ax.plot([], [], '--' , lw=1, color='red')   \n",
    "obstacles, = ax.plot([], [], 'o', markersize=35, lw=2, color='gray')\n",
    "time_template = 'time = %.1fs'\n",
    "time_text = ax.text(0.05, 0.9, '', transform=ax.transAxes)\n",
    "\n",
    "for index in range(D):\n",
    "    lobj = ax.plot([],[],'-',lw=0.5,color='red')[0]\n",
    "    laserLines.append(lobj)\n",
    "\n",
    "def init():\n",
    "    S_max.set_data([], [])\n",
    "    obstacles.set_data([], [])\n",
    "    time_text.set_text('')\n",
    "    \n",
    "    for line in laserLines:\n",
    "        line.set_data([],[])\n",
    "    \n",
    "    return obstacles, time_text, laserLines\n",
    "\n",
    "def animate(i):\n",
    "    \n",
    "    # Draw the maximum sensor horizon\n",
    "    S_max.set_data(S_max_x,S_max_y)\n",
    "    \n",
    "    \n",
    "    # Draw the obstacles as just a bunch of points\n",
    "    \n",
    "    all_obs_x = []\n",
    "    all_obs_y = []\n",
    "    \n",
    "    for obs in obsField.ObstaclesList:\n",
    "        all_obs_x.append(obs.xtraj[i]) #+ obs.plotX) put back in this to plot little points around the circle\n",
    "        all_obs_y.append(obs.ytraj[i]) #+ obs.plotY)\n",
    "    \n",
    "    #all_obs_x = [x_obj1[i], x_obj2[i]]\n",
    "    #all_obs_y = [y_obj1[i], y_obj2[i]]\n",
    "    obstacles.set_data(all_obs_x, all_obs_y)\n",
    "    \n",
    "    # Draw in the time\n",
    "    time_text.set_text(time_template%(i*dt))\n",
    "    \n",
    "    xlist = []\n",
    "    ylist = []\n",
    "    # Draw the laser intersecting obstacles\n",
    "    for lasenum in range(len(laseAngles)):\n",
    "\n",
    "        x_laser_endpoint = S_maxdist*math.cos(laseAngles[lasenum])\n",
    "        y_laser_endpoint = S_maxdist*math.sin(laseAngles[lasenum])\n",
    "        \n",
    "        origin = np.array((0,0))\n",
    "        laser_endpoint = np.array((x_laser_endpoint,y_laser_endpoint))\n",
    "        for obs in obsField.ObstaclesList:\n",
    "            Q = np.array((obs.xtraj[i],obs.ytraj[i]))\n",
    "            r = obs.radius\n",
    "            _, pt = intersect(origin,laser_endpoint,Q,r)\n",
    "            if pt is not None:\n",
    "                if (pt[0]**2 + pt[1]**2 < x_laser_endpoint**2 + y_laser_endpoint**2):\n",
    "                    x_laser_endpoint = pt[0]\n",
    "                    y_laser_endpoint = pt[1]\n",
    "        \n",
    "        xlist.append([[0,x_laser_endpoint]])\n",
    "        ylist.append([[0,y_laser_endpoint]])\n",
    "  \n",
    "\n",
    "    for lnum,line in enumerate(laserLines):\n",
    "        line.set_data(xlist[lnum], ylist[lnum]) # set data for each line separately. \n",
    "\n",
    "    return obstacles, time_text, laserLines\n",
    "\n",
    "ani = animation.FuncAnimation(fig, animate, np.arange(1, len(y)),\n",
    "    interval=20, blit=False, init_func=init)\n",
    "#ani.save('bot.mp4', fps=20, bitrate=5000, codec=\"h264\", writer=writer)\n",
    "plt.show()"
   ]
  },
  {
   "cell_type": "code",
   "execution_count": 5,
   "metadata": {
    "collapsed": false
   },
   "outputs": [
    {
     "data": {
      "text/plain": [
       "0"
      ]
     },
     "execution_count": 5,
     "metadata": {},
     "output_type": "execute_result"
    }
   ],
   "source": [
    "\n",
    "os.system(\"rm bot_h264.mp4\")\n",
    "os.system(\"avconv -i bot.mp4 -c:v h264 -c:a copy bot_h264.mp4\")"
   ]
  },
  {
   "cell_type": "code",
   "execution_count": null,
   "metadata": {
    "collapsed": false
   },
   "outputs": [],
   "source": [
    "import os\n",
    "import io\n",
    "import base64\n",
    "from IPython.display import HTML\n",
    "\n",
    "video = io.open('/Users/pflomacpro/GeometricPDEs/_RotatingBot/bot_h264.mp4', 'r+b').read()\n",
    "encoded = base64.b64encode(video)\n",
    "HTML(data='''<video alt=\"test\" controls>\n",
    "                <source src=\"data:video/mp4;base64,{0}\" type=\"video/mp4\" />\n",
    "             </video>'''.format(encoded.decode('ascii')))"
   ]
  },
  {
   "cell_type": "code",
   "execution_count": null,
   "metadata": {
    "collapsed": true
   },
   "outputs": [],
   "source": []
  }
 ],
 "metadata": {
  "kernelspec": {
   "display_name": "Python 2",
   "language": "python",
   "name": "python2"
  },
  "language_info": {
   "codemirror_mode": {
    "name": "ipython",
    "version": 2
   },
   "file_extension": ".py",
   "mimetype": "text/x-python",
   "name": "python",
   "nbconvert_exporter": "python",
   "pygments_lexer": "ipython2",
   "version": "2.7.10"
  }
 },
 "nbformat": 4,
 "nbformat_minor": 0
}
