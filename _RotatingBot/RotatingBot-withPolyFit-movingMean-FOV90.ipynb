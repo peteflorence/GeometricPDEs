{
 "cells": [
  {
   "cell_type": "code",
   "execution_count": 1,
   "metadata": {
    "collapsed": false
   },
   "outputs": [
    {
     "name": "stdout",
     "output_type": "stream",
     "text": [
      "integrating...\n",
      "done\n"
     ]
    }
   ],
   "source": [
    "from numpy import sin, cos, pi, array\n",
    "import numpy as np\n",
    "import matplotlib.pyplot as plt\n",
    "import scipy.integrate as integrate\n",
    "import matplotlib.animation as animation\n",
    "import math\n",
    "\n",
    "\n",
    "metadata = dict(title='Rotating Bot', artist='Pete Florence',\n",
    "        comment='Rotate time')\n",
    "writer = animation.AVConvWriter(fps=20, metadata=metadata, bitrate=5000)\n",
    "\n",
    "\n",
    "# constant velocity\n",
    "v = 1\n",
    "\n",
    "def derivs(state, t):\n",
    "\n",
    "    dqdt = np.zeros_like(state)\n",
    "    \n",
    "    u = np.cos(state[2])\n",
    "    \n",
    "    dqdt[0] = 0 # rotating laser bot can't move\n",
    "    \n",
    "    dqdt[1] = 0 # rotating laser bot can't move\n",
    "\n",
    "    dqdt[2] = 0.2 # constant for now, but later will be u\n",
    "    #dqdt[2] = sin(t) # constant for now, but later will be u\n",
    "\n",
    "    return dqdt\n",
    "\n",
    "# create a time array from 0...30 sampled at 0.05 second steps\n",
    "dt = 0.05\n",
    "t = np.arange(0.0, 5, dt)\n",
    "\n",
    "# initial positions\n",
    "# x and y are position of origin.  We move the origin, not the plane, so that the plane stays in the same spot in the plot.\n",
    "# psi is yaw, and psidot is yawdot of plane\n",
    "x = 0.0\n",
    "y = 0.0\n",
    "psi = -10.0\n",
    "\n",
    "rad = pi/180.0\n",
    "\n",
    "# initial state\n",
    "state = np.array([x, y, psi*rad])\n",
    "\n",
    "print \"integrating...\"\n",
    "# integrate your ODE using scipy.integrate.\n",
    "y = integrate.odeint(derivs, state, t)\n",
    "print \"done\"\n",
    "\n",
    "xworld = y[:,0]\n",
    "yworld = y[:,1]\n",
    "psiworld = y[:,2]\n",
    "\n",
    "from ObstacleField import ObstacleField\n",
    "from Obstacle import Obstacle\n",
    "\n",
    "obsField = ObstacleField()\n",
    "obsField.randomField(M=15)\n",
    "for i in obsField.ObstaclesList:\n",
    "    i.computeTraj(psiworld,xworld,yworld)"
   ]
  },
  {
   "cell_type": "code",
   "execution_count": 2,
   "metadata": {
    "collapsed": false
   },
   "outputs": [
    {
     "data": {
      "image/png": "[encoded data removed]",
      "text/plain": [
       "<matplotlib.figure.Figure at 0x106191b50>"
      ]
     },
     "metadata": {},
     "output_type": "display_data"
    }
   ],
   "source": [
    "# Add laser\n",
    "from LineCircleIntersect import intersect\n",
    "laserLines = []\n",
    "approxLines = []\n",
    "D = 100 # Number of discrete data points from laser\n",
    "# this is in standard polar coordinates, it switched to perspective from plane in the transform later\n",
    "laseAngles = np.linspace(math.pi/4,3*math.pi/4,D+1)[0:D] \n",
    "\n",
    "#S_max\n",
    "S_maxdist = 14\n",
    "S_max_t = np.linspace(-math.pi,math.pi,100)\n",
    "S_max_x = S_maxdist*np.cos(S_max_t)\n",
    "S_max_y = S_maxdist*np.sin(S_max_t)\n",
    "\n",
    "xlist = []\n",
    "ylist = []\n",
    "\n",
    "laserDepths = laseAngles * 0.0\n",
    "\n",
    "\n",
    "# Find laser depths at a certain point in time\n",
    "# Need to not have this code copied\n",
    "i = 0\n",
    "for lasenum in range(len(laseAngles)):\n",
    "\n",
    "    x_laser_endpoint = S_maxdist*math.cos(laseAngles[lasenum])\n",
    "    y_laser_endpoint = S_maxdist*math.sin(laseAngles[lasenum])\n",
    "\n",
    "    origin = np.array((0,0))\n",
    "    laser_endpoint = np.array((x_laser_endpoint,y_laser_endpoint))\n",
    "    for obs in obsField.ObstaclesList:\n",
    "        Q = np.array((obs.xtraj[i],obs.ytraj[i]))\n",
    "        r = obs.radius\n",
    "        _, pt = intersect(origin,laser_endpoint,Q,r)\n",
    "        if pt is not None:\n",
    "            if (pt[0]**2 + pt[1]**2 < x_laser_endpoint**2 + y_laser_endpoint**2):\n",
    "                x_laser_endpoint = pt[0]\n",
    "                y_laser_endpoint = pt[1]\n",
    "\n",
    "    depth = math.sqrt(x_laser_endpoint**2 + y_laser_endpoint**2)\n",
    "    laserDepths[lasenum] = depth\n",
    "\n",
    " \n",
    "%matplotlib inline\n",
    "from coordTransforms import transformStandardPolarTheta_to_PlaneTheta\n",
    "laseAngles2 = laseAngles * 0\n",
    "for i in range(len(laseAngles)):\n",
    "    laseAngles2[i] = transformStandardPolarTheta_to_PlaneTheta(laseAngles[i])\n",
    "\n",
    "plt.plot(laseAngles2,laserDepths,'.')\n",
    "plt.xlabel(r'$\\theta_{plane coord}$')\n",
    "plt.ylabel(r'$s(\\theta)$')\n",
    "plt.axis([-4, 4, 0, 15])\n",
    "plt.show()\n",
    "\n",
    "import csv\n",
    "with open('laserdata.csv', 'wb') as csvfile:\n",
    "    laserwriter = csv.writer(csvfile, delimiter=',',\n",
    "                            quotechar='|', quoting=csv.QUOTE_MINIMAL)\n",
    "    for i in range(len(laserDepths)):\n",
    "        laserwriter.writerow([laseAngles2[i], laserDepths[i]])"
   ]
  },
  {
   "cell_type": "code",
   "execution_count": 3,
   "metadata": {
    "collapsed": false
   },
   "outputs": [
    {
     "data": {
      "image/png": "[encoded data removed]",
      "text/plain": [
       "<matplotlib.figure.Figure at 0x106191610>"
      ]
     },
     "metadata": {},
     "output_type": "display_data"
    }
   ],
   "source": [
    "# Add limitation for edges\n",
    "laserDepths[0] = 0.1\n",
    "laserDepths[-1] = 0.1\n",
    "\n",
    "plt.plot(laseAngles2,laserDepths,'.')\n",
    "plt.xlabel(r'$\\theta_{plane coord}$')\n",
    "plt.ylabel(r'$s(\\theta)$')\n",
    "plt.axis([-4, 4, 0, 15])\n",
    "plt.show()"
   ]
  },
  {
   "cell_type": "code",
   "execution_count": 4,
   "metadata": {
    "collapsed": false
   },
   "outputs": [
    {
     "name": "stdout",
     "output_type": "stream",
     "text": [
      "weighted numpy polynomial regression weights for N = 11\n",
      "[  7.75849167e+00   7.48448252e+00   7.59302485e+01   1.09360171e+02\n",
      "   1.23403293e+02  -2.41919826e+03  -2.99205122e+03   1.18670688e+04\n",
      "   8.57719684e+03  -2.19218645e+04  -7.22984350e+03   1.38852830e+04]\n"
     ]
    },
    {
     "name": "stderr",
     "output_type": "stream",
     "text": [
      "/usr/local/lib/python2.7/site-packages/matplotlib/collections.py:571: FutureWarning: elementwise comparison failed; returning scalar instead, but in the future will perform elementwise comparison\n",
      "  if self._edgecolors == str('face'):\n"
     ]
    },
    {
     "data": {
      "image/png": "[encoded data removed]",
      "text/plain": [
       "<matplotlib.figure.Figure at 0x106ed4fd0>"
      ]
     },
     "metadata": {},
     "output_type": "display_data"
    },
    {
     "data": {
      "image/png": "[encoded data removed]",
      "text/plain": [
       "<matplotlib.figure.Figure at 0x106ed4ed0>"
      ]
     },
     "metadata": {},
     "output_type": "display_data"
    }
   ],
   "source": [
    "## Unconstrained\n",
    "\n",
    "import scipy.optimize as opt\n",
    "from linear_regression import LinearRegression\n",
    "\n",
    "def plot(lr,w):\n",
    "    # plot sin(2*phi*x) in green\n",
    "    x = np.linspace(-math.pi/4,math.pi/4,1000)\n",
    "    lr_temp = LinearRegression(x,x,lr.numFeatures-1)\n",
    "    reg_prediction = np.dot(lr_temp.phi,w)\n",
    "    plt.plot(x, reg_prediction, color='r')\n",
    "    plt.scatter(lr.x, lr.y, color='b', marker='o',facecolors='none')\n",
    "    plt.xlabel('x')\n",
    "    plt.ylabel('y')\n",
    "    plt.show()\n",
    "    \n",
    "\n",
    "\n",
    "N = 11\n",
    "lr = LinearRegression(laseAngles2,laserDepths,N)\n",
    "\n",
    "print \"weighted numpy polynomial regression weights for N = \" + str(N)\n",
    "weights = laserDepths * 1.0\n",
    "#print weights\n",
    "for index, value in enumerate(weights):\n",
    "    weights[index] = (1/value)**4\n",
    "#print weights\n",
    "# an attempt to weight things in front more heavily \n",
    "# weights[len(weights)/4:3*len(weights)/4] = 10.0\n",
    "w = np.polynomial.polynomial.polyfit(laseAngles2, laserDepths, N, w=weights)\n",
    "print w\n",
    "plot(lr,w)\n",
    "\n",
    "def horner(x, weights):\n",
    "    coefficients = weights[::-1]\n",
    "    result = 0\n",
    "    for i in coefficients:\n",
    "        result = result * x + i\n",
    "    return result\n",
    "\n",
    "# def evalPoly(x, weights):\n",
    "#     result = 0.0\n",
    "#     for i in range(len(weights)):\n",
    "#         result = result + weights[i] * (x**i)\n",
    "#     return result\n",
    "\n",
    "def plotHorner(w):\n",
    "    x = np.linspace(-math.pi/4,math.pi/4,1000)\n",
    "    y = x * 0.0\n",
    "    for index,val in enumerate(y):\n",
    "        y[index] = horner(x[index],w)\n",
    "    plt.plot(x,y)\n",
    "    plt.axis([-3.14, 3.14, 0, 20])\n",
    "    plt.show()\n",
    "    \n",
    "plotHorner(w)"
   ]
  },
  {
   "cell_type": "code",
   "execution_count": 5,
   "metadata": {
    "collapsed": false
   },
   "outputs": [
    {
     "name": "stdout",
     "output_type": "stream",
     "text": [
      "(100, 12)\n",
      "(12, 100)\n",
      "(100, 100)\n",
      "(12, 12)\n"
     ]
    }
   ],
   "source": [
    "# Define matrices that then I will need\n",
    "\n",
    "\n",
    "def setUpQP():\n",
    "    \n",
    "    #A = feature matrix\n",
    "    \n",
    "    lr = LinearRegression(laseAngles2,laserDepths,N)\n",
    "    A_pete = lr.phi\n",
    "    \n",
    "    #W = weighting matrix\n",
    "    weights = laserDepths * 1.0\n",
    "    for index, value in enumerate(weights):\n",
    "        weights[index] = (1/value)**4\n",
    "    W_pete = np.diag(weights)\n",
    "    \n",
    "    #b = vector of sensor measurements\n",
    "    b_pete = laserDepths\n",
    "    \n",
    "    return np.matrix(A_pete), np.matrix(W_pete), np.matrix(b_pete)\n",
    "    \n",
    "A_pete, W_pete, b_pete = setUpQP()\n",
    "\n",
    "print np.shape(A_pete)\n",
    "print np.shape(A_pete.T)\n",
    "print np.shape(A_pete * A_pete.T)\n",
    "print np.shape(A_pete.T * A_pete)\n",
    "\n",
    "\n"
   ]
  },
  {
   "cell_type": "code",
   "execution_count": 6,
   "metadata": {
    "collapsed": false
   },
   "outputs": [
    {
     "name": "stdout",
     "output_type": "stream",
     "text": [
      "     pcost       dcost       gap    pres   dres\n",
      " 0: -1.0034e+02  3.7564e+01  2e+03  3e-01  3e-01\n",
      " 1: -1.0031e+02 -1.6278e+02  7e+01  7e-03  8e-03\n",
      " 2: -1.0031e+02 -1.0103e+02  7e-01  7e-05  8e-05\n",
      " 3: -1.0032e+02 -1.0037e+02  5e-02  1e-06  1e-06\n",
      " 4: -1.0033e+02 -1.0034e+02  8e-03  1e-07  1e-07\n",
      " 5: -1.0034e+02 -1.0034e+02  2e-03  2e-08  2e-08\n",
      " 6: -1.0034e+02 -1.0034e+02  4e-04  2e-09  2e-09\n",
      " 7: -1.0034e+02 -1.0034e+02  8e-05  2e-10  2e-10\n",
      "Optimal solution found.\n",
      "[[  7.14321627e+00]\n",
      " [  1.55702304e+01]\n",
      " [  1.11410588e+02]\n",
      " [ -3.12872746e+02]\n",
      " [ -5.86488523e+02]\n",
      " [  2.37612970e+03]\n",
      " [  9.71385495e+02]\n",
      " [ -8.42917136e+03]\n",
      " [  3.31071004e+02]\n",
      " [  1.38063109e+04]\n",
      " [ -1.46446130e+03]\n",
      " [ -8.33406041e+03]]\n"
     ]
    },
    {
     "data": {
      "image/png": "[encoded data removed]",
      "text/plain": [
       "<matplotlib.figure.Figure at 0x1083bfad0>"
      ]
     },
     "metadata": {},
     "output_type": "display_data"
    },
    {
     "data": {
      "image/png": "[encoded data removed]",
      "text/plain": [
       "<matplotlib.figure.Figure at 0x10849a450>"
      ]
     },
     "metadata": {},
     "output_type": "display_data"
    }
   ],
   "source": [
    "import cvxopt\n",
    "\n",
    "# P = A^T W A\n",
    "P = cvxopt.matrix(A_pete.T * W_pete * A_pete)\n",
    "\n",
    "# q^T = -b^T A\n",
    "# q = -A^T b\n",
    "q = cvxopt.matrix(- A_pete.T * W_pete *b_pete.T)\n",
    "\n",
    "# G = A\n",
    "G = cvxopt.matrix(A_pete)\n",
    "\n",
    "# h = b_pete\n",
    "h = cvxopt.matrix(b_pete.T)\n",
    "\n",
    "A_zeros = np.copy(A_pete)\n",
    "A_zeros[::] = 0\n",
    "\n",
    "b_zeros = np.copy(b_pete)\n",
    "b_zeros[:] = 0\n",
    "\n",
    "A = cvxopt.matrix(A_zeros)\n",
    "b = cvxopt.matrix(b_zeros.T)\n",
    "\n",
    "# find the solution \n",
    "solution = cvxopt.solvers.qp(P, q, G, h)\n",
    "\n",
    "alpha = np.array(solution['x'])\n",
    "\n",
    "print alpha\n",
    "\n",
    "def plotHorner(w):\n",
    "    x = np.linspace(-math.pi/4,math.pi/4,1000)\n",
    "    y = x * 0.0\n",
    "    for index,val in enumerate(y):\n",
    "        y[index] = horner(x[index],w)\n",
    "    plt.plot(x,y)\n",
    "    plt.axis([-3.14, 3.14, 0, 20])\n",
    "    plt.show()\n",
    "    \n",
    "plotHorner(alpha)\n",
    "\n",
    "\n",
    "def plotConstrained(w):\n",
    "    x = np.linspace(-math.pi/4,math.pi/4,1000)\n",
    "    y = x * 0.0\n",
    "    for index,val in enumerate(y):\n",
    "        y[index] = horner(x[index],w)\n",
    "    plt.plot(x,y, color='r')\n",
    "    plt.scatter(laseAngles2, laserDepths, color='b', marker='o',facecolors='none')\n",
    "    plt.xlabel('x')\n",
    "    plt.ylabel('y')\n",
    "    plt.show()\n",
    "    \n",
    "plotConstrained(alpha)    \n"
   ]
  },
  {
   "cell_type": "code",
   "execution_count": 7,
   "metadata": {
    "collapsed": false
   },
   "outputs": [
    {
     "name": "stdout",
     "output_type": "stream",
     "text": [
      "integrating...\n",
      "done\n",
      "(100, 13)\n"
     ]
    }
   ],
   "source": [
    "# simulate pixel dynamics\n",
    "\n",
    "def pixelDerivs(pixelState, t):\n",
    "\n",
    "    dqdt = np.zeros_like(pixelState)\n",
    "    \n",
    "    u = 0.2 # u    \n",
    "    dqdt[0]  = -v  # world coming towards plane\n",
    "    dqdt[-1] = -u  # world turning with plane (mean)\n",
    "    \n",
    "    return dqdt\n",
    "\n",
    "# initial state\n",
    "pixelState = alpha[:,0]\n",
    "pixelState = np.hstack((pixelState, 0))\n",
    "\n",
    "print \"integrating...\"\n",
    "# integrate your ODE using scipy.integrate.\n",
    "pixelY = integrate.odeint(pixelDerivs, pixelState, t)\n",
    "print \"done\"\n",
    "\n",
    "print np.shape(pixelY)\n",
    "\n",
    "# for i in range(len(t)):\n",
    "#     print i\n",
    "#     plotHorner(pixelY[i][:-1])"
   ]
  },
  {
   "cell_type": "code",
   "execution_count": 8,
   "metadata": {
    "collapsed": false
   },
   "outputs": [],
   "source": [
    "def hornerMovingMean(x, weights, mean):\n",
    "    coefficients = weights[::-1]\n",
    "    result = 0\n",
    "    for i in coefficients:\n",
    "        result = result * (x-mean) + i\n",
    "    return result\n",
    "\n",
    "def plotHornerMovingMean(weights, mean):\n",
    "    x = np.linspace(-math.pi,math.pi,1000)\n",
    "    y = x * 0.0\n",
    "    for index,val in enumerate(y):\n",
    "        y[index] = hornerMovingMean(x[index], weights, mean)\n",
    "    plt.plot(x,y)\n",
    "    plt.axis([-3.14, 3.14, 0, 20])\n",
    "    plt.show()\n",
    "\n",
    "# for i in range(len(t)):\n",
    "#     print i\n",
    "#     plotHornerMovingMean(pixelY[i][:-1],pixelY[i][-1])"
   ]
  },
  {
   "cell_type": "code",
   "execution_count": 9,
   "metadata": {
    "collapsed": false
   },
   "outputs": [],
   "source": [
    "import os\n",
    "os.system(\"rm bot.mp4\")\n",
    "%matplotlib qt\n",
    "plt.rcParams['figure.figsize'] = 10, 10\n",
    "fig = plt.figure()\n",
    "ax = fig.add_subplot(111, autoscale_on=False, xlim=(-15, 15), ylim=(-15, 15))\n",
    "#ax = fig.add_subplot(121, autoscale_on=False, xlim=(-4, 4), ylim=(0, 16))\n",
    "#ax.grid()\n",
    "\n",
    "im = plt.imread('bot.png')\n",
    "newax = fig.add_axes([0.477, 0.46, 0.07, 0.1], anchor='SW')\n",
    "newax.imshow(im)\n",
    "newax.axis('off')\n",
    "ax.set_aspect('equal', 'datalim')\n",
    "     \n",
    "S_max, = ax.plot([], [], '--' , lw=1, color='red')   \n",
    "obstacles, = ax.plot([], [], 'o', markersize=35, lw=2, color='gray')\n",
    "time_template = 'time = %.1fs'\n",
    "time_text = ax.text(0.05, 0.9, '', transform=ax.transAxes)\n",
    "\n",
    "for index in range(D):\n",
    "    lobj = ax.plot([],[],'-',lw=0.5,color='red')[0]\n",
    "    laserLines.append(lobj)\n",
    "    approxobj = ax.plot([],[],'-',lw=0.5,color='green')[0]\n",
    "    approxLines.append(approxobj)\n",
    "\n",
    "def init():\n",
    "    S_max.set_data([], [])\n",
    "    obstacles.set_data([], [])\n",
    "    time_text.set_text('')\n",
    "    \n",
    "    for laserLine in laserLines:\n",
    "        laserLine.set_data([],[])\n",
    "\n",
    "    for approxLine in approxLines:\n",
    "        approxLine.set_data([],[])\n",
    "    \n",
    "    return obstacles, time_text, laserLines, approxLines\n",
    "\n",
    "def animate(i):\n",
    "    \n",
    "    # Draw the maximum sensor horizon\n",
    "    S_max.set_data(S_max_x,S_max_y)\n",
    "    \n",
    "    \n",
    "    # Draw the obstacles as just a bunch of points\n",
    "    \n",
    "    all_obs_x = []\n",
    "    all_obs_y = []\n",
    "    \n",
    "    for obs in obsField.ObstaclesList:\n",
    "        all_obs_x.append(obs.xtraj[i]) #+ obs.plotX) put back in this to plot little points around the circle\n",
    "        all_obs_y.append(obs.ytraj[i]) #+ obs.plotY)\n",
    "    \n",
    "    #all_obs_x = [x_obj1[i], x_obj2[i]]\n",
    "    #all_obs_y = [y_obj1[i], y_obj2[i]]\n",
    "    obstacles.set_data(all_obs_x, all_obs_y)\n",
    "    \n",
    "    # Draw in the time\n",
    "    time_text.set_text(time_template%(i*dt))\n",
    "    \n",
    "    xlist = []\n",
    "    ylist = []\n",
    "    \n",
    "    approx_xlist = []\n",
    "    approx_ylist = []\n",
    "    \n",
    "    # Draw the laser intersecting obstacles\n",
    "    for lasenum, lasevalue in enumerate(laseAngles):\n",
    "\n",
    "        x_laser_endpoint = S_maxdist*math.cos(laseAngles[lasenum])\n",
    "        y_laser_endpoint = S_maxdist*math.sin(laseAngles[lasenum])\n",
    "        \n",
    "        origin = np.array((0,0))\n",
    "        laser_endpoint = np.array((x_laser_endpoint,y_laser_endpoint))\n",
    "        for obs in obsField.ObstaclesList:\n",
    "            Q = np.array((obs.xtraj[i],obs.ytraj[i]))\n",
    "            r = obs.radius\n",
    "            _, pt = intersect(origin,laser_endpoint,Q,r)\n",
    "            if pt is not None:\n",
    "                if (pt[0]**2 + pt[1]**2 < x_laser_endpoint**2 + y_laser_endpoint**2):\n",
    "                    x_laser_endpoint = pt[0]\n",
    "                    y_laser_endpoint = pt[1]\n",
    "        \n",
    "        # Currently turned off drawing red\n",
    "#         xlist.append([[0,x_laser_endpoint]])\n",
    "#         ylist.append([[0,y_laser_endpoint]])\n",
    "        \n",
    "        xlist.append([[0,0]])\n",
    "        ylist.append([[0,0]])\n",
    "        \n",
    "        # Draw the approximation\n",
    "        \n",
    "        \n",
    "        lasevalue2 = transformStandardPolarTheta_to_PlaneTheta(lasevalue)\n",
    "        Ymean = pixelY[i][-1]\n",
    "        Yweights = pixelY[i][:-1]\n",
    "        \n",
    "        approx_distance = hornerMovingMean(lasevalue2,Yweights,Ymean)\n",
    "        # check if negative, just don't plot if it is\n",
    "        if (approx_distance < 0):\n",
    "            #print \"found one at \", lasevalue2\n",
    "            approx_distance = 0\n",
    "        \n",
    "        \n",
    "        x_approx_endpoint = approx_distance*math.cos(lasevalue)\n",
    "        y_approx_endpoint = approx_distance*math.sin(lasevalue)\n",
    "        \n",
    "        if (lasevalue2 - Ymean < math.pi/4) and (Ymean - lasevalue2 < math.pi/4):\n",
    "            approx_xlist.append([[0,x_approx_endpoint]])\n",
    "            approx_ylist.append([[0,y_approx_endpoint]])\n",
    "        else:\n",
    "            approx_xlist.append([[0,0]])\n",
    "            approx_ylist.append([[0,0]])\n",
    "            \n",
    "  \n",
    "\n",
    "    for lnum,line in enumerate(laserLines):\n",
    "        line.set_data(xlist[lnum], ylist[lnum]) # set data for each line separately. \n",
    "        \n",
    "    for lnum,approxline in enumerate(approxLines):\n",
    "        approxline.set_data(approx_xlist[lnum], approx_ylist[lnum]) # set data for each line separately. \n",
    "\n",
    "    return obstacles, time_text, laserLines, approxLines\n",
    "\n",
    "ani = animation.FuncAnimation(fig, animate, np.arange(1, len(y)),\n",
    "    interval=20, blit=False, init_func=init)\n",
    "ani.save('bot.mp4', fps=20, bitrate=5000, codec=\"h264\", writer=writer)\n",
    "plt.show()"
   ]
  },
  {
   "cell_type": "code",
   "execution_count": null,
   "metadata": {
    "collapsed": true
   },
   "outputs": [],
   "source": []
  },
  {
   "cell_type": "code",
   "execution_count": null,
   "metadata": {
    "collapsed": true
   },
   "outputs": [],
   "source": []
  }
 ],
 "metadata": {
  "kernelspec": {
   "display_name": "Python 2",
   "language": "python",
   "name": "python2"
  },
  "language_info": {
   "codemirror_mode": {
    "name": "ipython",
    "version": 2
   },
   "file_extension": ".py",
   "mimetype": "text/x-python",
   "name": "python",
   "nbconvert_exporter": "python",
   "pygments_lexer": "ipython2",
   "version": "2.7.10"
  }
 },
 "nbformat": 4,
 "nbformat_minor": 0
}
