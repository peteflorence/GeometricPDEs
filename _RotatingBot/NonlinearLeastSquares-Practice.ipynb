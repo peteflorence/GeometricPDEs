{
 "cells": [
  {
   "cell_type": "code",
   "execution_count": 11,
   "metadata": {
    "collapsed": false
   },
   "outputs": [
    {
     "name": "stdout",
     "output_type": "stream",
     "text": [
      "/usr/local/lib/python2.7/site-packages/scipy/__init__.pyc\n",
      "0.17.0\n"
     ]
    }
   ],
   "source": [
    "import scipy\n",
    "print scipy.__file__\n",
    "print scipy.__version__\n",
    "%matplotlib inline"
   ]
  },
  {
   "cell_type": "code",
   "execution_count": 12,
   "metadata": {
    "collapsed": false
   },
   "outputs": [],
   "source": [
    "import numpy as np\n",
    "\n",
    "def fun_rosenbrock(x):\n",
    "    return np.array([10 * (x[1] - x[0]**2), (1 - x[0])])"
   ]
  },
  {
   "cell_type": "code",
   "execution_count": 13,
   "metadata": {
    "collapsed": false
   },
   "outputs": [
    {
     "name": "stdout",
     "output_type": "stream",
     "text": [
      "[ 1.  1.]\n",
      "9.86692429108e-30\n",
      "8.89288649342e-14\n"
     ]
    }
   ],
   "source": [
    "import scipy.optimize\n",
    "from scipy.optimize import least_squares\n",
    "x0_rosenbrock = np.array([2, 2])\n",
    "res_1 = least_squares(fun_rosenbrock, x0_rosenbrock)\n",
    "print res_1.x\n",
    "print res_1.cost\n",
    "print res_1.optimality"
   ]
  },
  {
   "cell_type": "code",
   "execution_count": 14,
   "metadata": {
    "collapsed": false
   },
   "outputs": [
    {
     "name": "stdout",
     "output_type": "stream",
     "text": [
      "[ 1.22437075  1.5       ]\n",
      "0.0252130939468\n",
      "1.58854014332e-07\n"
     ]
    }
   ],
   "source": [
    "def jac_rosenbrock(x):\n",
    "    return np.array([\n",
    "        [-20 * x[0], 10],\n",
    "        [-1, 0]])\n",
    "\n",
    "res_2 = least_squares(fun_rosenbrock, x0_rosenbrock, jac_rosenbrock,\n",
    "                      bounds=([-np.inf, 1.5], np.inf))\n",
    "print res_2.x\n",
    "\n",
    "print res_2.cost\n",
    "\n",
    "print res_2.optimality"
   ]
  },
  {
   "cell_type": "code",
   "execution_count": 15,
   "metadata": {
    "collapsed": false
   },
   "outputs": [
    {
     "name": "stdout",
     "output_type": "stream",
     "text": [
      "[-0.76879999 -0.94872671 -0.98873125 ..., -0.89720159 -0.77106105\n",
      " -0.50525835]\n",
      "4.56871619661e-23\n",
      "1.16504542969e-11\n"
     ]
    }
   ],
   "source": [
    "def fun_broyden(x):\n",
    "    f = (3 - x) * x + 1\n",
    "    f[1:] -= x[:-1]\n",
    "    f[:-1] -= 2 * x[1:]\n",
    "    return f\n",
    "\n",
    "from scipy.sparse import lil_matrix\n",
    "def sparsity_broyden(n):\n",
    "    sparsity = lil_matrix((n, n), dtype=int)\n",
    "    i = np.arange(n)\n",
    "    sparsity[i, i] = 1\n",
    "    i = np.arange(1, n)\n",
    "    sparsity[i, i - 1] = 1\n",
    "    i = np.arange(n - 1)\n",
    "    sparsity[i, i + 1] = 1\n",
    "    return sparsity\n",
    "\n",
    "n = 100000\n",
    "x0_broyden = -np.ones(n)\n",
    "\n",
    "res_3 = least_squares(fun_broyden, x0_broyden,\n",
    "                      jac_sparsity=sparsity_broyden(n))\n",
    "print res_3.x\n",
    "\n",
    "print res_3.cost\n",
    "\n",
    "print res_3.optimality\n"
   ]
  },
  {
   "cell_type": "code",
   "execution_count": 16,
   "metadata": {
    "collapsed": true
   },
   "outputs": [],
   "source": [
    "def gen_data(t, a, b, c, noise=0, n_outliers=0, random_state=0):\n",
    "    y = a + b * np.exp(t * c)\n",
    "\n",
    "    rnd = np.random.RandomState(random_state)\n",
    "    error = noise * rnd.randn(t.size)\n",
    "    outliers = rnd.randint(0, t.size, n_outliers)\n",
    "    error[outliers] *= 10\n",
    "\n",
    "    return y + error\n",
    "\n",
    "a = 0.5\n",
    "b = 2.0\n",
    "c = -1\n",
    "t_min = 0\n",
    "t_max = 10\n",
    "n_points = 15\n",
    "\n",
    "t_train = np.linspace(t_min, t_max, n_points)\n",
    "y_train = gen_data(t_train, a, b, c, noise=0.1, n_outliers=3)"
   ]
  },
  {
   "cell_type": "code",
   "execution_count": 17,
   "metadata": {
    "collapsed": false
   },
   "outputs": [
    {
     "data": {
      "image/png": "[encoded data removed]",
      "text/plain": [
       "<matplotlib.figure.Figure at 0x1112ce0d0>"
      ]
     },
     "metadata": {},
     "output_type": "display_data"
    }
   ],
   "source": [
    "def fun(x, t, y):\n",
    "    return x[0] + x[1] * np.exp(x[2] * t) - y\n",
    "\n",
    "x0 = np.array([1.0, 1.0, 0.0])\n",
    "\n",
    "res_lsq = least_squares(fun, x0, args=(t_train, y_train))\n",
    "\n",
    "res_soft_l1 = least_squares(fun, x0, loss='soft_l1', f_scale=0.1,\n",
    "                            args=(t_train, y_train))\n",
    "res_log = least_squares(fun, x0, loss='cauchy', f_scale=0.1,\n",
    "                        args=(t_train, y_train))\n",
    "\n",
    "t_test = np.linspace(t_min, t_max, n_points * 10)\n",
    "y_true = gen_data(t_test, a, b, c)\n",
    "y_lsq = gen_data(t_test, *res_lsq.x)\n",
    "y_soft_l1 = gen_data(t_test, *res_soft_l1.x)\n",
    "y_log = gen_data(t_test, *res_log.x)\n",
    "\n",
    "import matplotlib.pyplot as plt\n",
    "plt.plot(t_train, y_train, 'o')\n",
    "plt.plot(t_test, y_true, 'k', linewidth=2, label='true')\n",
    "plt.plot(t_test, y_lsq, label='linear loss')\n",
    "plt.plot(t_test, y_soft_l1, label='soft_l1 loss')\n",
    "plt.plot(t_test, y_log, label='cauchy loss')\n",
    "plt.xlabel(\"t\")\n",
    "plt.ylabel(\"y\")\n",
    "plt.legend()\n",
    "plt.show()"
   ]
  },
  {
   "cell_type": "code",
   "execution_count": null,
   "metadata": {
    "collapsed": true
   },
   "outputs": [],
   "source": []
  }
 ],
 "metadata": {
  "kernelspec": {
   "display_name": "Python 2",
   "language": "python",
   "name": "python2"
  },
  "language_info": {
   "codemirror_mode": {
    "name": "ipython",
    "version": 2
   },
   "file_extension": ".py",
   "mimetype": "text/x-python",
   "name": "python",
   "nbconvert_exporter": "python",
   "pygments_lexer": "ipython2",
   "version": "2.7.10"
  }
 },
 "nbformat": 4,
 "nbformat_minor": 0
}
