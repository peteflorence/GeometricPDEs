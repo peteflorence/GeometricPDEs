{
 "cells": [
  {
   "cell_type": "code",
   "execution_count": 20,
   "metadata": {
    "collapsed": false
   },
   "outputs": [
    {
     "data": {
      "text/html": [
       "<img src=\"http://i.imgur.com/l9Yzfcs.gif\"/>"
      ],
      "text/plain": [
       "<IPython.core.display.Image object>"
      ]
     },
     "execution_count": 20,
     "metadata": {},
     "output_type": "execute_result"
    }
   ],
   "source": [
    "# http://nbviewer.ipython.org/gist/chriddyp/9827cb5086cfab8da092/Widgets%20-%20Fractal%20Tree%20Generator.ipynb\n",
    "\n",
    "from IPython.display import Image\n",
    "Image(url='http://i.imgur.com/l9Yzfcs.gif')\n",
    "\n"
   ]
  },
  {
   "cell_type": "code",
   "execution_count": 21,
   "metadata": {
    "collapsed": true
   },
   "outputs": [],
   "source": [
    "from math import pi as PI\n",
    "from math import sin, cos\n",
    "import random\n",
    "\n",
    "from plotly.widgets import GraphWidget\n",
    "from plotly.graph_objs import *\n",
    "import plotly.plotly as py\n",
    "import plotly.tools as tls\n",
    "\n",
    "from IPython.html import widgets \n",
    "from IPython.display import display, clear_output\n",
    "\n",
    "root = 12"
   ]
  },
  {
   "cell_type": "code",
   "execution_count": 22,
   "metadata": {
    "collapsed": true
   },
   "outputs": [],
   "source": [
    "# color the tree with a gradient from root_col to tip_col\n",
    "# interpolate linearly to get color at a given position in the gradient\n",
    "def get_col(root_col, tip_col, iterat):\n",
    "    r = ((iterat*1.0/root)*(root_col[0]-tip_col[0]))+tip_col[0]\n",
    "    g = ((iterat*1.0/root)*(root_col[1]-tip_col[1]))+tip_col[1]\n",
    "    b = ((iterat*1.0/root)*(root_col[2]-tip_col[2]))+tip_col[2]\n",
    "    return '#%02x%02x%02x' % (r,g,b)\n",
    "    \n",
    "def tree_graph(iterat=12, branch_angle=18.0):\n",
    "    # angle to radian factor\n",
    "    ang2rad = PI/180.0\n",
    "    # experiment with trunk length (try 120)\n",
    "    t = 120\n",
    "    # experiment with factor to contract the trunk each iteratation (try 0.7)\n",
    "    r = 0.7\n",
    "    # starting orientation (initial 90 deg)\n",
    "    theta = 90.0 * ang2rad\n",
    "    # experiment with angle of the branch (try 18 deg)\n",
    "    dtheta = branch_angle * ang2rad\n",
    "    # experiment with gradient color choices\n",
    "    root_col = (40,40,40)\n",
    "    tip_col = (250,250,250)\n",
    "    # experiment with factor to increase random angle variation as child branches get smaller\n",
    "    iterscale = 6.0\n",
    "    # center of bottom\n",
    "    origin = (250, 500)\n",
    "    root=iterat\n",
    "    # make the tree\n",
    "    \n",
    "    def fractal_tree(lines, iterat, origin, t, r, theta, dtheta, root_col, tip_col, randomize=False):\n",
    "        \"\"\"\n",
    "        draws branches\n",
    "        iterat:     iteratation number, stop when iterat == 0\n",
    "        origin:   x,y coordinates of the start of this branch\n",
    "        t:        current trunk length\n",
    "        r:        factor to contract the trunk each iteratation\n",
    "        theta:    starting orientation\n",
    "        dtheta:   angle of the branch\n",
    "        \"\"\"\n",
    "        if iterat == 0:\n",
    "            return lines\n",
    "        # render the branch\n",
    "        x0, y0 = origin\n",
    "\n",
    "        # randomize the length\n",
    "        randt = random.random()*t\n",
    "        if randomize:\n",
    "            x, y = x0 + randt * cos(theta), y0 - randt * sin(theta)\n",
    "        else:\n",
    "            x, y = x0 + cos(theta), y0 - sin(theta)\n",
    "        # color the branch according to its position in the tree\n",
    "        col = get_col(root_col, tip_col, iterat)\n",
    "        # add to traces\n",
    "        lines.append(Scatter(x=[x0, x], y=[y0, y], mode='lines', line=Line(color=col, width=1)))\n",
    "        # recursive calls\n",
    "        if randomize:\n",
    "            fractal_tree(lines, iterat-1, (x,y), t * r, r, theta + (random.random())*(iterscale/(iterat+1))*dtheta, dtheta, root_col, tip_col, randomize)\n",
    "            fractal_tree(lines, iterat-1, (x,y), t * r, r, theta - (random.random())*(iterscale/(iterat+1))*dtheta, dtheta, root_col, tip_col, randomize) \n",
    "        else: \n",
    "            fractal_tree(lines, iterat-1, (x,y), t * r, r, theta + dtheta, dtheta, root_col, tip_col, randomize)\n",
    "            fractal_tree(lines, iterat-1, (x,y), t * r, r, theta - dtheta, dtheta, root_col, tip_col, randomize)\n",
    "    \n",
    "    lines = []\n",
    "    fractal_tree(lines, iterat, origin, t, r, theta, dtheta, root_col, tip_col, True)\n",
    "    \n",
    "    # group the lines by similar color\n",
    "    branches = {}\n",
    "    for line in lines:\n",
    "        color = line['line']['color']\n",
    "        if color not in branches:\n",
    "            branches[color] = line\n",
    "        else:\n",
    "            branches[color]['x'].extend(line['x'])\n",
    "            branches[color]['y'].extend(line['y'])\n",
    "            branches[color]['x'].append(None)\n",
    "            branches[color]['y'].append(None)\n",
    "            \n",
    "    \n",
    "    branch_data = [branches[c] for c in branches]\n",
    "    \n",
    "    return branch_data"
   ]
  },
  {
   "cell_type": "code",
   "execution_count": 23,
   "metadata": {
    "collapsed": true
   },
   "outputs": [],
   "source": [
    "layout = Layout(yaxis=YAxis(autorange='reversed'), width=500, showlegend=False)\n",
    "\n",
    "g.relayout(layout)"
   ]
  },
  {
   "cell_type": "code",
   "execution_count": 24,
   "metadata": {
    "collapsed": false
   },
   "outputs": [],
   "source": [
    "g = GraphWidget('https://plot.ly/~chris/4103')\n",
    "\n",
    "iterations = widgets.IntSliderWidget()\n",
    "iterations.min= 2\n",
    "iterations.max= 14\n",
    "iterations.value = 12\n",
    "iterations.description = 'iterations'\n",
    "\n",
    "branch_angle = widgets.IntSliderWidget()\n",
    "branch_angle.min = 5\n",
    "branch_angle.max = 90\n",
    "branch_angle.value = 18\n",
    "branch_angle.description = 'branch angle'\n",
    "\n",
    "seed = widgets.ButtonWidget()\n",
    "seed.description = 'Grow a new tree'\n",
    "\n",
    "def regraph_tree(_):\n",
    "    branch_data = tree_graph(iterations.value, branch_angle.value)\n",
    "\n",
    "    g.restyle({'x': [[]], 'y': [[]]})\n",
    "    g.add_traces(branch_data)\n",
    "\n",
    "iterations.on_trait_change(regraph_tree, 'value')\n",
    "branch_angle.on_trait_change(regraph_tree, 'value')\n",
    "seed.on_click(regraph_tree)\n",
    "    \n",
    "display(iterations)\n",
    "display(branch_angle)\n",
    "display(seed)\n",
    "display(g)"
   ]
  },
  {
   "cell_type": "code",
   "execution_count": 18,
   "metadata": {
    "collapsed": true
   },
   "outputs": [],
   "source": []
  },
  {
   "cell_type": "code",
   "execution_count": null,
   "metadata": {
    "collapsed": true
   },
   "outputs": [],
   "source": [
    "# CSS styling within IPython notebook - feel free to re-use\n",
    "from IPython.core.display import HTML\n",
    "import urllib2\n",
    "\n",
    "HTML(urllib2.urlopen('http://bit.ly/1Bf5Hft').read())"
   ]
  },
  {
   "cell_type": "code",
   "execution_count": 10,
   "metadata": {
    "collapsed": false
   },
   "outputs": [
    {
     "data": {
      "text/html": [
       "<img src=\"http://i.imgur.com/PzOz1qc.gif\"/>"
      ],
      "text/plain": [
       "<IPython.core.display.Image object>"
      ]
     },
     "execution_count": 10,
     "metadata": {},
     "output_type": "execute_result"
    }
   ],
   "source": [
    "# from http://nbviewer.ipython.org/gist/jackparmer/239c00f721097deb11fd\n",
    "\n",
    "from IPython.display import Image\n",
    "Image(url='http://i.imgur.com/PzOz1qc.gif')"
   ]
  },
  {
   "cell_type": "code",
   "execution_count": 11,
   "metadata": {
    "collapsed": false
   },
   "outputs": [],
   "source": [
    "from plotly.widgets import GraphWidget\n",
    "\n",
    "from IPython.html import widgets \n",
    "from IPython.display import display, clear_output\n",
    "import numpy as np"
   ]
  },
  {
   "cell_type": "code",
   "execution_count": 12,
   "metadata": {
    "collapsed": false
   },
   "outputs": [],
   "source": [
    "g = GraphWidget('https://plot.ly/~jackp/2590')\n",
    "x = y = np.arange(-5,5,0.1)\n",
    "yt = x[:,np.newaxis]\n",
    "\n",
    "class z_data:\n",
    "    def __init__(self):\n",
    "        self.z = np.cos(x*yt)+np.sin(x*yt)\n",
    "    \n",
    "    def on_z_change(self, name, old_value, new_value):\n",
    "        self.z = np.cos(x*yt*(new_value+1)/100)+np.sin(x*yt*(new_value+1/100))\n",
    "        self.replot()\n",
    "        \n",
    "    def replot(self):\n",
    "        g.restyle({ 'z': [self.z] })\n",
    "\n",
    "z_slider = widgets.FloatSlider(min=0,max=3,value=1,step=0.05)\n",
    "z_slider.description = 'Frequency'\n",
    "z_slider.value = 1\n",
    "\n",
    "z_state = z_data()\n",
    "z_slider.on_trait_change(z_state.on_z_change, 'value')"
   ]
  },
  {
   "cell_type": "code",
   "execution_count": 13,
   "metadata": {
    "collapsed": true
   },
   "outputs": [],
   "source": [
    "display(z_slider)\n",
    "display(g)"
   ]
  },
  {
   "cell_type": "code",
   "execution_count": 9,
   "metadata": {
    "collapsed": false
   },
   "outputs": [
    {
     "data": {
      "text/html": [
       "<style>\n",
       "\n",
       "html {\n",
       "  font-size: 62.5% !important; }\n",
       "body {\n",
       "  font-size: 1.5em !important; /* currently ems cause chrome bug misinterpreting rems on body element */\n",
       "  line-height: 1.6 !important;\n",
       "  font-weight: 400 !important;\n",
       "  font-family: \"Raleway\", \"HelveticaNeue\", \"Helvetica Neue\", Helvetica, Arial, sans-serif !important;\n",
       "  color: #222 !important; }\n",
       "\n",
       "div{ border-radius: 0px !important;  }\n",
       "div.CodeMirror-sizer{ background: rgb(244, 244, 248) !important; }\n",
       "div.input_area{ background: rgb(244, 244, 248) !important; }\n",
       "\n",
       "div.out_prompt_overlay:hover{ background: rgb(244, 244, 248) !important; }\n",
       "div.input_prompt:hover{ background: rgb(244, 244, 248) !important; }\n",
       "\n",
       "h1, h2, h3, h4, h5, h6 {\n",
       "  color: #333 !important;\n",
       "  margin-top: 0 !important;\n",
       "  margin-bottom: 2rem !important;\n",
       "  font-weight: 300 !important; }\n",
       "h1 { font-size: 4.0rem !important; line-height: 1.2 !important;  letter-spacing: -.1rem !important;}\n",
       "h2 { font-size: 3.6rem !important; line-height: 1.25 !important; letter-spacing: -.1rem !important; }\n",
       "h3 { font-size: 3.0rem !important; line-height: 1.3 !important;  letter-spacing: -.1rem !important; }\n",
       "h4 { font-size: 2.4rem !important; line-height: 1.35 !important; letter-spacing: -.08rem !important; }\n",
       "h5 { font-size: 1.8rem !important; line-height: 1.5 !important;  letter-spacing: -.05rem !important; }\n",
       "h6 { font-size: 1.5rem !important; line-height: 1.6 !important;  letter-spacing: 0 !important; }\n",
       "\n",
       "@media (min-width: 550px) {\n",
       "  h1 { font-size: 5.0rem !important; }\n",
       "  h2 { font-size: 4.2rem !important; }\n",
       "  h3 { font-size: 3.6rem !important; }\n",
       "  h4 { font-size: 3.0rem !important; }\n",
       "  h5 { font-size: 2.4rem !important; }\n",
       "  h6 { font-size: 1.5rem !important; }\n",
       "}\n",
       "\n",
       "p {\n",
       "  margin-top: 0 !important; }\n",
       "  \n",
       "a {\n",
       "  color: #1EAEDB !important; }\n",
       "a:hover {\n",
       "  color: #0FA0CE !important; }\n",
       "  \n",
       "code {\n",
       "  padding: .2rem .5rem !important;\n",
       "  margin: 0 .2rem !important;\n",
       "  font-size: 90% !important;\n",
       "  white-space: nowrap !important;\n",
       "  background: #F1F1F1 !important;\n",
       "  border: 1px solid #E1E1E1 !important;\n",
       "  border-radius: 4px !important; }\n",
       "pre > code {\n",
       "  display: block !important;\n",
       "  padding: 1rem 1.5rem !important;\n",
       "  white-space: pre !important; }\n",
       "  \n",
       "button{ border-radius: 0px !important; }\n",
       ".navbar-inner{ background-image: none !important;  }\n",
       "select, textarea{ border-radius: 0px !important; }\n",
       "\n",
       "</style>"
      ],
      "text/plain": [
       "<IPython.core.display.HTML object>"
      ]
     },
     "execution_count": 9,
     "metadata": {},
     "output_type": "execute_result"
    }
   ],
   "source": [
    "# CSS styling within IPython notebook - feel free to re-use\n",
    "from IPython.core.display import HTML\n",
    "import urllib2\n",
    "\n",
    "HTML(urllib2.urlopen('http://bit.ly/1Bf5Hft').read())"
   ]
  },
  {
   "cell_type": "code",
   "execution_count": null,
   "metadata": {
    "collapsed": true
   },
   "outputs": [],
   "source": []
  }
 ],
 "metadata": {
  "kernelspec": {
   "display_name": "Python 2",
   "language": "python",
   "name": "python2"
  },
  "language_info": {
   "codemirror_mode": {
    "name": "ipython",
    "version": 2
   },
   "file_extension": ".py",
   "mimetype": "text/x-python",
   "name": "python",
   "nbconvert_exporter": "python",
   "pygments_lexer": "ipython2",
   "version": "2.7.10"
  }
 },
 "nbformat": 4,
 "nbformat_minor": 0
}
