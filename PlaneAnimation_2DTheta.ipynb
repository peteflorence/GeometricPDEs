{
 "cells": [
  {
   "cell_type": "code",
   "execution_count": 1,
   "metadata": {
    "collapsed": true
   },
   "outputs": [],
   "source": [
    "from numpy import sin, cos, pi, array\n",
    "import numpy as np\n",
    "import matplotlib.pyplot as plt\n",
    "import scipy.integrate as integrate\n",
    "import matplotlib.animation as animation\n",
    "\n",
    "FFMpegWriter = animation.writers['ffmpeg']\n",
    "metadata = dict(title='Plane', artist='Pete Florence',\n",
    "        comment='Fly time')\n",
    "writer = FFMpegWriter(fps=20, metadata=metadata,bitrate=500)\n",
    "\n",
    "\n",
    "# constant velocity\n",
    "v = 1\n",
    "\n",
    "def derivs(state, t):\n",
    "\n",
    "    dqdt = np.zeros_like(state)\n",
    "    \n",
    "    dqdt[0] = -v * sin(state[2]) # Move origin, not plane (invert v to switch back)\n",
    "    \n",
    "    dqdt[1] = -v * cos(state[2]) # Move origin, not plane (invert v to switch back)\n",
    "\n",
    "    dqdt[2] = 0 # for now, but later will be u\n",
    "\n",
    "    return dqdt\n",
    "\n",
    "# create a time array from 0..100 sampled at 0.05 second steps\n",
    "dt = 0.05\n",
    "t = np.arange(0.0, 20, dt)\n",
    "\n",
    "# initial positions\n",
    "# x and y are position of origin.  We move the origin, not the plane, so that the plane stays in the same spot in the plot.\n",
    "# psi is yaw, and psidot is yawdot of plane\n",
    "x = 0.0\n",
    "y = 0.0\n",
    "psi = -10.0\n",
    "\n",
    "rad = pi/180.0\n",
    "\n",
    "# initial state\n",
    "state = np.array([x, y, psi*rad])\n",
    "\n",
    "# integrate your ODE using scipy.integrate.\n",
    "y = integrate.odeint(derivs, state, t)\n",
    "\n",
    "xworld = y[:,0]\n",
    "yworld = y[:,1]\n",
    "\n",
    "x_obj1 = xworld + 5\n",
    "y_obj1 = yworld + 3\n",
    "\n",
    "x_obj2 = xworld - 4\n",
    "y_obj2 = yworld + 7"
   ]
  },
  {
   "cell_type": "code",
   "execution_count": 2,
   "metadata": {
    "collapsed": false
   },
   "outputs": [],
   "source": [
    "%matplotlib qt\n",
    "fig = plt.figure()\n",
    "ax = fig.add_subplot(111, autoscale_on=False, xlim=(-15, 15), ylim=(-5, 20))\n",
    "ax.grid()\n",
    "\n",
    "line, = ax.plot([], [], 'o-', lw=2)\n",
    "time_template = 'time = %.1fs'\n",
    "time_text = ax.text(0.05, 0.9, '', transform=ax.transAxes)\n",
    "\n",
    "def init():\n",
    "    line.set_data([], [])\n",
    "    time_text.set_text('')\n",
    "    return line, time_text\n",
    "\n",
    "def animate(i):\n",
    "    thisx = [0, xworld[i], x_obj1[i], x_obj2[i]]\n",
    "    thisy = [0, yworld[i], y_obj1[i], y_obj2[i]]\n",
    "\n",
    "    line.set_data(thisx, thisy)\n",
    "    time_text.set_text(time_template%(i*dt))\n",
    "    return line, time_text\n",
    "\n",
    "ani = animation.FuncAnimation(fig, animate, np.arange(1, len(y)),\n",
    "    interval=20, blit=False, init_func=init)\n",
    "ani.save('plane.mp4', fps=20, bitrate=5000, codec=\"h264\")\n",
    "plt.show()"
   ]
  },
  {
   "cell_type": "code",
   "execution_count": null,
   "metadata": {
    "collapsed": false
   },
   "outputs": [],
   "source": [
    "import os\n",
    "import io\n",
    "import base64\n",
    "from IPython.display import HTML\n",
    "\n",
    "video = io.open('/Users/pflomacpro/GeometricPDEs/plane.mp4', 'r+b').read()\n",
    "encoded = base64.b64encode(video)\n",
    "HTML(data='''<video alt=\"test\" controls>\n",
    "                <source src=\"data:video/mp4;base64,{0}\" type=\"video/mp4\" />\n",
    "             </video>'''.format(encoded.decode('ascii')))"
   ]
  },
  {
   "cell_type": "code",
   "execution_count": null,
   "metadata": {
    "collapsed": true
   },
   "outputs": [],
   "source": []
  }
 ],
 "metadata": {
  "kernelspec": {
   "display_name": "Python 2",
   "language": "python",
   "name": "python2"
  },
  "language_info": {
   "codemirror_mode": {
    "name": "ipython",
    "version": 2
   },
   "file_extension": ".py",
   "mimetype": "text/x-python",
   "name": "python",
   "nbconvert_exporter": "python",
   "pygments_lexer": "ipython2",
   "version": "2.7.10"
  }
 },
 "nbformat": 4,
 "nbformat_minor": 0
}
