{
 "cells": [
  {
   "cell_type": "code",
   "execution_count": 2,
   "metadata": {
    "collapsed": false
   },
   "outputs": [
    {
     "name": "stdout",
     "output_type": "stream",
     "text": [
      "-1.57079632679\n",
      "1.57079632679\n",
      "3.14159265359\n",
      "[ 0.          3.14159265 -3.14159265 -1.57079633]\n"
     ]
    }
   ],
   "source": [
    "import math\n",
    "import numpy as np\n",
    "\n",
    "from coordTransforms import transformStandardPolarTheta_to_PlaneTheta\n",
    "\n",
    "print transformStandardPolarTheta_to_PlaneTheta(math.pi)\n",
    "print transformStandardPolarTheta_to_PlaneTheta(0)\n",
    "print transformStandardPolarTheta_to_PlaneTheta(-math.pi/2)\n",
    "\n",
    "test = np.array((0,math.pi,-math.pi,-math.pi/2))\n",
    "print test\n",
    "\n",
    "#print transformStandardPolarTheta_to_PlaneTheta(test)\n",
    "# currently can't handle np.arrays"
   ]
  },
  {
   "cell_type": "code",
   "execution_count": 3,
   "metadata": {
    "collapsed": false
   },
   "outputs": [
    {
     "name": "stdout",
     "output_type": "stream",
     "text": [
      "integrating...\n",
      "done\n"
     ]
    }
   ],
   "source": [
    "from numpy import sin, cos, pi, array\n",
    "import numpy as np\n",
    "import matplotlib.pyplot as plt\n",
    "import scipy.integrate as integrate\n",
    "import matplotlib.animation as animation\n",
    "import math\n",
    "\n",
    "\n",
    "metadata = dict(title='Rotating Bot', artist='Pete Florence',\n",
    "        comment='Rotate time')\n",
    "writer = animation.AVConvWriter(fps=20, metadata=metadata, bitrate=5000)\n",
    "\n",
    "\n",
    "# constant velocity\n",
    "v = 1\n",
    "\n",
    "def derivs(state, t):\n",
    "\n",
    "    dqdt = np.zeros_like(state)\n",
    "    \n",
    "    u = np.cos(state[2])\n",
    "    \n",
    "    dqdt[0] = 0 # rotating laser bot can't move\n",
    "    \n",
    "    dqdt[1] = 0 # rotating laser bot can't move\n",
    "\n",
    "    dqdt[2] = 0 # constant for now, but later will be u\n",
    "\n",
    "    return dqdt\n",
    "\n",
    "# create a time array from 0...30 sampled at 0.05 second steps\n",
    "dt = 0.05\n",
    "t = np.arange(0.0, 5, dt)\n",
    "\n",
    "# initial positions\n",
    "# x and y are position of origin.  We move the origin, not the plane, so that the plane stays in the same spot in the plot.\n",
    "# psi is yaw, and psidot is yawdot of plane\n",
    "x = 0.0\n",
    "y = 0.0\n",
    "psi = -10.0\n",
    "\n",
    "rad = pi/180.0\n",
    "\n",
    "# initial state\n",
    "state = np.array([x, y, psi*rad])\n",
    "\n",
    "print \"integrating...\"\n",
    "# integrate your ODE using scipy.integrate.\n",
    "y = integrate.odeint(derivs, state, t)\n",
    "print \"done\"\n",
    "\n",
    "xworld = y[:,0]\n",
    "yworld = y[:,1]\n",
    "psiworld = y[:,2]\n",
    "\n",
    "from ObstacleField import ObstacleField\n",
    "from Obstacle import Obstacle\n",
    "\n",
    "obsField = ObstacleField()\n",
    "obsField.randomField(M=7)\n",
    "for i in obsField.ObstaclesList:\n",
    "    i.computeTraj(psiworld,xworld,yworld)"
   ]
  },
  {
   "cell_type": "code",
   "execution_count": 4,
   "metadata": {
    "collapsed": false
   },
   "outputs": [
    {
     "name": "stdout",
     "output_type": "stream",
     "text": [
      "<type 'numpy.ndarray'>\n"
     ]
    },
    {
     "data": {
      "image/png": "[encoded data removed]",
      "text/plain": [
       "<matplotlib.figure.Figure at 0x10d2d2d90>"
      ]
     },
     "metadata": {},
     "output_type": "display_data"
    },
    {
     "data": {
      "image/png": "[encoded data removed]",
      "text/plain": [
       "<matplotlib.figure.Figure at 0x10d2d2d50>"
      ]
     },
     "metadata": {},
     "output_type": "display_data"
    }
   ],
   "source": [
    "# Add laser\n",
    "from LineCircleIntersect import intersect\n",
    "laserLines = []\n",
    "D = 100 # Number of discrete data points from laser\n",
    "laseAngles = np.linspace(-math.pi,math.pi,D+1)[0:D]\n",
    "\n",
    "#S_max\n",
    "S_maxdist = 14\n",
    "S_max_t = np.linspace(-math.pi,math.pi,100)\n",
    "S_max_x = S_maxdist*np.cos(S_max_t)\n",
    "S_max_y = S_maxdist*np.sin(S_max_t)\n",
    "\n",
    "xlist = []\n",
    "ylist = []\n",
    "\n",
    "laserDepths = laseAngles * 0.0\n",
    "\n",
    "\n",
    "# Find laser depths at a certain point in time\n",
    "# Need to not have this code copied\n",
    "i = 0\n",
    "for lasenum in range(len(laseAngles)):\n",
    "\n",
    "    x_laser_endpoint = S_maxdist*math.cos(laseAngles[lasenum])\n",
    "    y_laser_endpoint = S_maxdist*math.sin(laseAngles[lasenum])\n",
    "\n",
    "    origin = np.array((0,0))\n",
    "    laser_endpoint = np.array((x_laser_endpoint,y_laser_endpoint))\n",
    "    for obs in obsField.ObstaclesList:\n",
    "        Q = np.array((obs.xtraj[i],obs.ytraj[i]))\n",
    "        r = obs.radius\n",
    "        _, pt = intersect(origin,laser_endpoint,Q,r)\n",
    "        if pt is not None:\n",
    "            if (pt[0]**2 + pt[1]**2 < x_laser_endpoint**2 + y_laser_endpoint**2):\n",
    "                x_laser_endpoint = pt[0]\n",
    "                y_laser_endpoint = pt[1]\n",
    "\n",
    "    depth = math.sqrt(x_laser_endpoint**2 + y_laser_endpoint**2)\n",
    "    laserDepths[lasenum] = depth\n",
    "\n",
    " \n",
    "%matplotlib inline\n",
    "from coordTransforms import transformStandardPolarTheta_to_PlaneTheta\n",
    "print type(laseAngles)\n",
    "laseAngles2 = laseAngles * 0\n",
    "for i in range(len(laseAngles)):\n",
    "    laseAngles2[i] = transformStandardPolarTheta_to_PlaneTheta(laseAngles[i])\n",
    "plt.plot(laseAngles,laserDepths,'.')\n",
    "plt.xlabel(r'$\\theta_{reg polar}$')\n",
    "plt.ylabel(r'$s(\\theta)$')\n",
    "plt.axis([-4, 4, 0, 15])\n",
    "plt.show()\n",
    "\n",
    "plt.plot(laseAngles2,laserDepths,'.')\n",
    "plt.xlabel(r'$\\theta_{plane coord}$')\n",
    "plt.ylabel(r'$s(\\theta)$')\n",
    "plt.axis([-4, 4, 0, 15])\n",
    "plt.show()"
   ]
  },
  {
   "cell_type": "code",
   "execution_count": null,
   "metadata": {
    "collapsed": true
   },
   "outputs": [],
   "source": []
  }
 ],
 "metadata": {
  "kernelspec": {
   "display_name": "Python 2",
   "language": "python",
   "name": "python2"
  },
  "language_info": {
   "codemirror_mode": {
    "name": "ipython",
    "version": 2
   },
   "file_extension": ".py",
   "mimetype": "text/x-python",
   "name": "python",
   "nbconvert_exporter": "python",
   "pygments_lexer": "ipython2",
   "version": "2.7.10"
  }
 },
 "nbformat": 4,
 "nbformat_minor": 0
}
