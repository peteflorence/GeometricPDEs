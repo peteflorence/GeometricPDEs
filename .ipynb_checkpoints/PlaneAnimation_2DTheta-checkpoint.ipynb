{
 "cells": [
  {
   "cell_type": "code",
   "execution_count": 28,
   "metadata": {
    "collapsed": true
   },
   "outputs": [],
   "source": [
    "from numpy import sin, cos, pi, array\n",
    "import numpy as np\n",
    "import matplotlib.pyplot as plt\n",
    "import scipy.integrate as integrate\n",
    "import matplotlib.animation as animation\n",
    "import math\n",
    "\n",
    "\n",
    "metadata = dict(title='Plane', artist='Pete Florence',\n",
    "        comment='Fly time')\n",
    "writer = animation.AVConvWriter(fps=20, metadata=metadata, bitrate=500)\n",
    "\n",
    "\n",
    "# constant velocity\n",
    "v = 1\n",
    "\n",
    "def derivs(state, t):\n",
    "\n",
    "    dqdt = np.zeros_like(state)\n",
    "    \n",
    "    dqdt[0] = v * sin(state[2]) # Move origin, not plane (invert v to switch back)\n",
    "    \n",
    "    dqdt[1] = v * cos(state[2]) # Move origin, not plane (invert v to switch back)\n",
    "\n",
    "    dqdt[2] = .3 # constant for now, but later will be u\n",
    "\n",
    "    return dqdt\n",
    "\n",
    "# create a time array from 0..100 sampled at 0.05 second steps\n",
    "dt = 0.05\n",
    "t = np.arange(0.0, 30, dt)\n",
    "\n",
    "# initial positions\n",
    "# x and y are position of origin.  We move the origin, not the plane, so that the plane stays in the same spot in the plot.\n",
    "# psi is yaw, and psidot is yawdot of plane\n",
    "x = 0.0\n",
    "y = 0.0\n",
    "psi = -10.0\n",
    "\n",
    "rad = pi/180.0\n",
    "\n",
    "# initial state\n",
    "state = np.array([x, y, psi*rad])\n",
    "\n",
    "# integrate your ODE using scipy.integrate.\n",
    "y = integrate.odeint(derivs, state, t)\n",
    "\n",
    "xplane = y[:,0]\n",
    "yplane = y[:,1]\n",
    "psiplane = y[:,2]\n",
    "\n",
    "x_obj1 = 5\n",
    "y_obj1 = 3\n",
    "\n",
    "x_obj2 = -4\n",
    "y_obj2 = +7"
   ]
  },
  {
   "cell_type": "code",
   "execution_count": 27,
   "metadata": {
    "collapsed": false
   },
   "outputs": [],
   "source": [
    "%matplotlib qt\n",
    "plt.rcParams['figure.figsize'] = 12, 8\n",
    "fig = plt.figure()\n",
    "ax = fig.add_subplot(111, autoscale_on=False, xlim=(-15, 15), ylim=(-5, 20))\n",
    "#ax.grid()\n",
    "\n",
    "#FOV parameters\n",
    "FOVangle = 130*math.pi/180\n",
    "FOVlength = 10\n",
    "theta_neg = -FOVangle/2\n",
    "theta_pos = FOVangle/2\n",
    "FOV_data = [FOVlength*math.cos(math.pi/2-theta_pos),FOVlength*math.sin(math.pi/2-theta_pos),FOVlength*math.cos(math.pi/2-theta_neg),FOVlength*math.sin(math.pi/2-theta_neg)]\n",
    "\n",
    "\n",
    "\n",
    "im = plt.imread('tetrazeph.jpg')\n",
    "newax = fig.add_axes([0.477, 0.15, 0.07, 0.1], anchor='SW')\n",
    "newax.imshow(im)\n",
    "newax.axis('off')\n",
    "ax.set_aspect('equal', 'datalim')\n",
    "        \n",
    "FOV, = ax.plot([], [], '--' , lw=1, color='blue')\n",
    "line, = ax.plot([], [], 'o', lw=2, color='red')\n",
    "time_template = 'time = %.1fs'\n",
    "time_text = ax.text(0.05, 0.9, '', transform=ax.transAxes)\n",
    "\n",
    "def init():\n",
    "    FOV.set_data([], [])\n",
    "    line.set_data([], [])\n",
    "    time_text.set_text('')\n",
    "    return line, time_text\n",
    "\n",
    "def animate(i):\n",
    "    #thisx = [xworld[i], x_obj1[i], x_obj2[i]]\n",
    "    #thisy = [yworld[i], y_obj1[i], y_obj2[i]]\n",
    "    \n",
    "    thisx = [3, -4]\n",
    "    thisy = [4, 10]\n",
    "\n",
    "    FOV.set_data([FOV_data[0]+xworld[i],+xworld[i],FOV_data[2]+xworld[i]],[FOV_data[1]+xworld[i],0+xworld[i],FOV_data[3]+xworld[i]])\n",
    "    line.set_data(thisx, thisy)\n",
    "    time_text.set_text(time_template%(i*dt))\n",
    "    return FOV, line, time_text\n",
    "\n",
    "ani = animation.FuncAnimation(fig, animate, np.arange(1, len(y)),\n",
    "    interval=20, blit=True, init_func=init)\n",
    "#ani.save('double_pendulum.mp4', fps=20, bitrate=5000, codec=\"h264\", writer=writer)\n",
    "plt.show()"
   ]
  },
  {
   "cell_type": "code",
   "execution_count": 5,
   "metadata": {
    "collapsed": false
   },
   "outputs": [
    {
     "ename": "IOError",
     "evalue": "[Errno 2] No such file or directory: '/Users/pflomacpro/GeometricPDEs/plane.mp4'",
     "output_type": "error",
     "traceback": [
      "\u001b[1;31m---------------------------------------------------------------------------\u001b[0m",
      "\u001b[1;31mIOError\u001b[0m                                   Traceback (most recent call last)",
      "\u001b[1;32m<ipython-input-5-be4cf61660f6>\u001b[0m in \u001b[0;36m<module>\u001b[1;34m()\u001b[0m\n\u001b[0;32m      4\u001b[0m \u001b[1;32mfrom\u001b[0m \u001b[0mIPython\u001b[0m\u001b[1;33m.\u001b[0m\u001b[0mdisplay\u001b[0m \u001b[1;32mimport\u001b[0m \u001b[0mHTML\u001b[0m\u001b[1;33m\u001b[0m\u001b[0m\n\u001b[0;32m      5\u001b[0m \u001b[1;33m\u001b[0m\u001b[0m\n\u001b[1;32m----> 6\u001b[1;33m \u001b[0mvideo\u001b[0m \u001b[1;33m=\u001b[0m \u001b[0mio\u001b[0m\u001b[1;33m.\u001b[0m\u001b[0mopen\u001b[0m\u001b[1;33m(\u001b[0m\u001b[1;34m'/Users/pflomacpro/GeometricPDEs/plane.mp4'\u001b[0m\u001b[1;33m,\u001b[0m \u001b[1;34m'r+b'\u001b[0m\u001b[1;33m)\u001b[0m\u001b[1;33m.\u001b[0m\u001b[0mread\u001b[0m\u001b[1;33m(\u001b[0m\u001b[1;33m)\u001b[0m\u001b[1;33m\u001b[0m\u001b[0m\n\u001b[0m\u001b[0;32m      7\u001b[0m \u001b[0mencoded\u001b[0m \u001b[1;33m=\u001b[0m \u001b[0mbase64\u001b[0m\u001b[1;33m.\u001b[0m\u001b[0mb64encode\u001b[0m\u001b[1;33m(\u001b[0m\u001b[0mvideo\u001b[0m\u001b[1;33m)\u001b[0m\u001b[1;33m\u001b[0m\u001b[0m\n\u001b[0;32m      8\u001b[0m HTML(data='''<video alt=\"test\" controls>\n",
      "\u001b[1;31mIOError\u001b[0m: [Errno 2] No such file or directory: '/Users/pflomacpro/GeometricPDEs/plane.mp4'"
     ]
    }
   ],
   "source": [
    "import os\n",
    "import io\n",
    "import base64\n",
    "from IPython.display import HTML\n",
    "\n",
    "video = io.open('/Users/pflomacpro/GeometricPDEs/plane.mp4', 'r+b').read()\n",
    "encoded = base64.b64encode(video)\n",
    "HTML(data='''<video alt=\"test\" controls>\n",
    "                <source src=\"data:video/mp4;base64,{0}\" type=\"video/mp4\" />\n",
    "             </video>'''.format(encoded.decode('ascii')))"
   ]
  },
  {
   "cell_type": "code",
   "execution_count": null,
   "metadata": {
    "collapsed": true
   },
   "outputs": [],
   "source": []
  }
 ],
 "metadata": {
  "kernelspec": {
   "display_name": "Python 2",
   "language": "python",
   "name": "python2"
  },
  "language_info": {
   "codemirror_mode": {
    "name": "ipython",
    "version": 2
   },
   "file_extension": ".py",
   "mimetype": "text/x-python",
   "name": "python",
   "nbconvert_exporter": "python",
   "pygments_lexer": "ipython2",
   "version": "2.7.6"
  }
 },
 "nbformat": 4,
 "nbformat_minor": 0
}
