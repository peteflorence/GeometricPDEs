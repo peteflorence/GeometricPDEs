{
 "cells": [
  {
   "cell_type": "code",
   "execution_count": 6,
   "metadata": {
    "collapsed": false
   },
   "outputs": [
    {
     "name": "stdout",
     "output_type": "stream",
     "text": [
      "Populating the interactive namespace from numpy and matplotlib\n"
     ]
    }
   ],
   "source": [
    "%pylab inline"
   ]
  },
  {
   "cell_type": "code",
   "execution_count": 7,
   "metadata": {
    "collapsed": false
   },
   "outputs": [
    {
     "name": "stdout",
     "output_type": "stream",
     "text": [
      "mkdir: animation_frames: File exists\r\n"
     ]
    }
   ],
   "source": [
    "!mkdir animation_frames"
   ]
  },
  {
   "cell_type": "code",
   "execution_count": 8,
   "metadata": {
    "collapsed": true
   },
   "outputs": [],
   "source": [
    "# Import 3D libraries\n",
    "from mpl_toolkits.mplot3d import Axes3D\n",
    "\n",
    "# It's always good to create a function for your plots\n",
    "def plot3dsine(theta, phi, time):\n",
    "    \n",
    "    # Create figure\n",
    "    fig = plt.figure(figsize=(12, 6))\n",
    "    ax = fig.gca(projection='3d')\n",
    "\n",
    "    # Create data to plot (same as before)\n",
    "    nx, ny = (150,150)\n",
    "    xlim = 10\n",
    "    ylim = 10\n",
    "    x = np.linspace(-xlim,xlim,nx)\n",
    "    y = np.linspace(-ylim,ylim,ny)\n",
    "    # Create a mesh grid of the two arrays x and y\n",
    "    xm, ym = meshgrid(x, y)\n",
    "    # Compute a value on that mesh\n",
    "    z = sin(np.sqrt(xm**2 + 3*ym**2) - time)/(xm**2 + ym**2)**(0.25)\n",
    "\n",
    "    # Produce 3d plot, set axis and colorbar\n",
    "    specs = {'cmap' : 'seismic', 'vmin' : -0.6, 'vmax' : 1.0}\n",
    "    surf = ax.plot_surface(xm, ym, z, rstride = 1, cstride = 2, linewidth=0, **specs)\n",
    "    cset = ax.contourf(xm, ym, z, zdir='z', offset=3, alpha = 0.2, **specs)\n",
    "    cset = ax.contour(xm, ym, z, zdir='y', offset=-15, **specs)\n",
    "    cset = ax.contour(xm, ym, z, zdir='x', offset=-15, **specs)\n",
    "\n",
    "    ax.set_zlim(-1.01, 1.01)\n",
    "    ax.set_axis_off() # Remove background axis and grid\n",
    "\n",
    "    ax.view_init(elev=phi, azim=theta)\n",
    "    fig.colorbar(surf, shrink=0.5, aspect=5)"
   ]
  },
  {
   "cell_type": "code",
   "execution_count": 9,
   "metadata": {
    "collapsed": false
   },
   "outputs": [
    {
     "name": "stdout",
     "output_type": "stream",
     "text": [
      "Frame number:\n",
      "0 1 2 3 4 5 6 7 8 9\n"
     ]
    }
   ],
   "source": [
    "\n",
    "# Output a set of images using plot3dsine()\n",
    "nframes = 100 # Use 100 to produce bigger animation\n",
    "print('Frame number:')\n",
    "for i in xrange(0,nframes,1):\n",
    "    # 3D plot parameters as function of iterator i\n",
    "    theta = 45 - 0.3*i\n",
    "    phi = 290 + 0.4*i\n",
    "    time = i/25.0\n",
    "    # Call plotting function and save figure into file\n",
    "    plot3dsine(theta,phi,time);\n",
    "    plt.savefig('animation_frames/frame{0:07d}.png'.format(i+1));\n",
    "    plt.close()\n",
    "    print i,"
   ]
  },
  {
   "cell_type": "code",
   "execution_count": 23,
   "metadata": {
    "collapsed": false
   },
   "outputs": [
    {
     "data": {
      "text/plain": [
       "0"
      ]
     },
     "execution_count": 23,
     "metadata": {},
     "output_type": "execute_result"
    }
   ],
   "source": [
    "import os\n",
    "os.system(\"avconv -r 10 -i /Users/pflomacpro/GeometricPDEs/animation_frames/frame%07d.png -b:v 1000k /Users/pflomacpro/GeometricPDEs/animation_frames/amovie.mp4\")"
   ]
  },
  {
   "cell_type": "code",
   "execution_count": null,
   "metadata": {
    "collapsed": true
   },
   "outputs": [],
   "source": []
  }
 ],
 "metadata": {
  "kernelspec": {
   "display_name": "Python 2",
   "language": "python",
   "name": "python2"
  },
  "language_info": {
   "codemirror_mode": {
    "name": "ipython",
    "version": 2
   },
   "file_extension": ".py",
   "mimetype": "text/x-python",
   "name": "python",
   "nbconvert_exporter": "python",
   "pygments_lexer": "ipython2",
   "version": "2.7.10"
  }
 },
 "nbformat": 4,
 "nbformat_minor": 0
}
