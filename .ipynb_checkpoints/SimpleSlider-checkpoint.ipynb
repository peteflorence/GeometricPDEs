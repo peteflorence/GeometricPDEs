{
 "cells": [
  {
   "cell_type": "code",
   "execution_count": 7,
   "metadata": {
    "collapsed": false
   },
   "outputs": [],
   "source": [
    "import IPython.html.widgets as widgets\n",
    "from IPython.display import display\n",
    "import matplotlib.pyplot as plt\n",
    "import numpy as np\n",
    "\n",
    "%matplotlib inline"
   ]
  },
  {
   "cell_type": "code",
   "execution_count": 2,
   "metadata": {
    "collapsed": false
   },
   "outputs": [],
   "source": [
    "def thing(a,b):\n",
    "    x = randn\n",
    "    print a,b\n",
    "    "
   ]
  },
  {
   "cell_type": "code",
   "execution_count": 3,
   "metadata": {
    "collapsed": false
   },
   "outputs": [
    {
     "name": "stdout",
     "output_type": "stream",
     "text": [
      "3 0.0\n"
     ]
    }
   ],
   "source": [
    "a_slider = widgets.IntSliderWidget(min=-5, max=5, step=1, value=0)\n",
    "b_slider = widgets.FloatSliderWidget(min=-5, max=5, step=0.3, value=0)\n",
    "\n",
    "w=widgets.interactive(thing,a=a_slider,b=b_slider)\n",
    "display(w)"
   ]
  },
  {
   "cell_type": "code",
   "execution_count": 10,
   "metadata": {
    "collapsed": false
   },
   "outputs": [
    {
     "data": {
      "text/plain": [
       "[<matplotlib.lines.Line2D at 0x11ac6cd10>,\n",
       " <matplotlib.lines.Line2D at 0x11ac6cf90>,\n",
       " <matplotlib.lines.Line2D at 0x11ac7d210>,\n",
       " <matplotlib.lines.Line2D at 0x11ac7d3d0>,\n",
       " <matplotlib.lines.Line2D at 0x11ac7d590>,\n",
       " <matplotlib.lines.Line2D at 0x11ac7d750>,\n",
       " <matplotlib.lines.Line2D at 0x11ac7d910>,\n",
       " <matplotlib.lines.Line2D at 0x118bd1bd0>,\n",
       " <matplotlib.lines.Line2D at 0x11ac7dc90>,\n",
       " <matplotlib.lines.Line2D at 0x11ac7de50>]"
      ]
     },
     "execution_count": 10,
     "metadata": {},
     "output_type": "execute_result"
    },
    {
     "data": {
      "image/png": "[encoded data removed]",
      "text/plain": [
       "<matplotlib.figure.Figure at 0x118a4ccd0>"
      ]
     },
     "metadata": {},
     "output_type": "display_data"
    }
   ],
   "source": [
    "x = np.random.randn(1,10)\n",
    "y = np.random.randn(1,10)\n",
    "plt.plot(x,y)"
   ]
  },
  {
   "cell_type": "code",
   "execution_count": null,
   "metadata": {
    "collapsed": true
   },
   "outputs": [],
   "source": []
  }
 ],
 "metadata": {
  "kernelspec": {
   "display_name": "Python 2",
   "language": "python",
   "name": "python2"
  },
  "language_info": {
   "codemirror_mode": {
    "name": "ipython",
    "version": 2
   },
   "file_extension": ".py",
   "mimetype": "text/x-python",
   "name": "python",
   "nbconvert_exporter": "python",
   "pygments_lexer": "ipython2",
   "version": "2.7.10"
  }
 },
 "nbformat": 4,
 "nbformat_minor": 0
}
