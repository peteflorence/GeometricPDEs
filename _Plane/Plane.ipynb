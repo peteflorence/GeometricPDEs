{
 "cells": [
  {
   "cell_type": "code",
   "execution_count": 1,
   "metadata": {
    "collapsed": false
   },
   "outputs": [
    {
     "name": "stdout",
     "output_type": "stream",
     "text": [
      "integrating...\n",
      "done\n"
     ]
    }
   ],
   "source": [
    "%load_ext autoreload\n",
    "%autoreload 2\n",
    "from numpy import sin, cos, pi, array\n",
    "import numpy as np\n",
    "import matplotlib.pyplot as plt\n",
    "import scipy.integrate as integrate\n",
    "import matplotlib.animation as animation\n",
    "import math\n",
    "\n",
    "\n",
    "metadata = dict(title='Rotating Bot', artist='Pete Florence',\n",
    "        comment='Rotate time')\n",
    "writer = animation.AVConvWriter(fps=20, metadata=metadata, bitrate=5000)\n",
    "\n",
    "\n",
    "# constant velocity\n",
    "v = 8\n",
    "\n",
    "def derivs(state, t):\n",
    "\n",
    "    dqdt = np.zeros_like(state)\n",
    "    \n",
    "    dqdt[0] = -v*sin(state[2])\n",
    "    dqdt[1] = -v*cos(state[2]) \n",
    "    dqdt[2] = sin(2*t)\n",
    "    \n",
    "    return dqdt\n",
    "\n",
    "# create a time array from 0...30 sampled at 0.05 second steps\n",
    "dt = 0.05\n",
    "t = np.arange(0.0, 10, dt)\n",
    "\n",
    "# initial positions\n",
    "# x and y are position of origin.  We move the origin, not the plane, so that the plane stays in the same spot in the plot.\n",
    "# psi is yaw, and psidot is yawdot of plane\n",
    "x = 0.0\n",
    "y = 0.0\n",
    "psi = 0.0\n",
    "\n",
    "rad = pi/180.0\n",
    "\n",
    "# initial state\n",
    "state = np.array([x, y, psi*rad])\n",
    "\n",
    "print \"integrating...\"\n",
    "# integrate your ODE using scipy.integrate.\n",
    "y = integrate.odeint(derivs, state, t)\n",
    "print \"done\"\n",
    "\n",
    "xworld = y[:,0]\n",
    "yworld = y[:,1]\n",
    "psiworld = y[:,2]\n",
    "\n",
    "def rotateWorldIntoPlaneFrame(xworld,yworld,psiworld):\n",
    "    Rtraj = np.sqrt(xworld**2 + yworld**2)\n",
    "    thetatraj = np.arctan2(xworld, yworld)\n",
    "    thetatraj = thetatraj - psiworld\n",
    "    xtraj = Rtraj*np.sin(thetatraj)\n",
    "    ytraj = Rtraj*np.cos(thetatraj)\n",
    "    return xtraj, ytraj\n",
    "\n",
    "xworld, yworld = rotateWorldIntoPlaneFrame(xworld,yworld,psiworld)\n",
    "    \n",
    "from ObstacleField import ObstacleField\n",
    "from Obstacle import Obstacle\n",
    "\n",
    "#Custom test field\n",
    "# obsField = ObstacleField()\n",
    "# obsField.addObstacle(Obstacle(3,4))\n",
    "# obsField.addObstacle(Obstacle(-2,7))\n",
    "# obsField.addObstacle(Obstacle(13,14))\n",
    "# obsField.addObstacle(Obstacle(-12,17))\n",
    "# obsField.addObstacle(Obstacle(23,24))\n",
    "# obsField.addObstacle(Obstacle(-22,27))\n",
    "# obsField.addObstacle(Obstacle(33,34))\n",
    "# obsField.addObstacle(Obstacle(-12,37))\n",
    "# obsField.addObstacle(Obstacle(13,44))\n",
    "# obsField.addObstacle(Obstacle(-12,57))\n",
    "# obsField.addObstacle(Obstacle(3,54))\n",
    "# obsField.addObstacle(Obstacle(-2,53))\n",
    "\n",
    "# # Random field\n",
    "obsField = ObstacleField()\n",
    "obsField.randomField(M=50)\n",
    "for i in obsField.ObstaclesList:\n",
    "    i.computeTraj(psiworld,xworld,yworld)"
   ]
  },
  {
   "cell_type": "code",
   "execution_count": 2,
   "metadata": {
    "collapsed": false
   },
   "outputs": [
    {
     "name": "stdout",
     "output_type": "stream",
     "text": [
      "precomputing laser data...\n",
      "done\n"
     ]
    },
    {
     "data": {
      "image/png": "[encoded data removed]",
      "text/plain": [
       "<matplotlib.figure.Figure at 0x11485ce10>"
      ]
     },
     "metadata": {},
     "output_type": "display_data"
    }
   ],
   "source": [
    "# Add laser\n",
    "from libLaserDepths import computeLaserDepthsTraj\n",
    "from LineCircleIntersect import intersect\n",
    "laserLines = []\n",
    "D = 100 # Number of discrete data points from laser\n",
    "laseAngles = np.linspace(-math.pi,math.pi,D+1)[0:D]\n",
    "\n",
    "#S_max\n",
    "S_maxdist = 20\n",
    "S_max_t = np.linspace(-math.pi,math.pi,100)\n",
    "S_max_x = S_maxdist*np.cos(S_max_t)\n",
    "S_max_y = S_maxdist*np.sin(S_max_t)\n",
    "\n",
    "xlist = []\n",
    "ylist = []\n",
    "\n",
    "print \"precomputing laser data...\"\n",
    "laserDepthsTraj, x_laser_endpointTraj, y_laser_endpointTraj = computeLaserDepthsTraj(xworld, yworld, laseAngles, S_maxdist, obsField)\n",
    "print \"done\"\n",
    "\n",
    "\n",
    "%matplotlib inline\n",
    "from coordTransforms import transformStandardPolarTheta_to_PlaneTheta\n",
    "laseAngles2 = laseAngles * 0\n",
    "for i in range(len(laseAngles)):\n",
    "    laseAngles2[i] = transformStandardPolarTheta_to_PlaneTheta(laseAngles[i])\n",
    "    \n",
    "    \n",
    "plt.plot(laseAngles2,laserDepthsTraj[0,:],'.')\n",
    "plt.xlabel(r'$\\theta_{plane coord}$')\n",
    "plt.ylabel(r'$s(\\theta)$')\n",
    "plt.axis([-4, 4, 0, 22])\n",
    "plt.show()\n",
    "\n",
    "# import csv\n",
    "# with open('laserdata.csv', 'wb') as csvfile:\n",
    "#     laserwriter = csv.writer(csvfile, delimiter=',',\n",
    "#                             quotechar='|', quoting=csv.QUOTE_MINIMAL)\n",
    "#     for i in range(len(laserDepths)):\n",
    "#         laserwriter.writerow([laseAngles2[i], laserDepths[i]])\n"
   ]
  },
  {
   "cell_type": "code",
   "execution_count": 3,
   "metadata": {
    "collapsed": false
   },
   "outputs": [],
   "source": [
    "%matplotlib qt\n",
    "plt.rcParams['figure.figsize'] = 20, 15\n",
    "fig = plt.figure()\n",
    "ax = fig.add_subplot(111, autoscale_on=False, xlim=(-50, 50), ylim=(-20, 50))\n",
    "ax.grid()\n",
    "\n",
    "im = plt.imread('Car-Top-Red-icon.png')\n",
    "newax = fig.add_axes([0.477, 0.28, 0.07, 0.1], anchor='SW')\n",
    "newax.imshow(im)\n",
    "newax.axis('off')\n",
    "ax.set_aspect('equal', 'datalim')\n",
    "     \n",
    "S_max, = ax.plot([], [], '--' , lw=1, color='red')   \n",
    "obstacles, = ax.plot([], [], 'o', markersize=20, lw=2, color='gray')\n",
    "time_template = 'time = %.1fs'\n",
    "time_text = ax.text(0.05, 0.9, '', transform=ax.transAxes)\n",
    "\n",
    "for index in range(D):\n",
    "    lobj = ax.plot([],[],'-',lw=0.5,color='red')[0]\n",
    "    laserLines.append(lobj)\n",
    "\n",
    "def init():\n",
    "    S_max.set_data([], [])\n",
    "    obstacles.set_data([], [])\n",
    "    time_text.set_text('')\n",
    "    \n",
    "    for line in laserLines:\n",
    "        line.set_data([],[])\n",
    "    \n",
    "    return obstacles, time_text, laserLines\n",
    "\n",
    "def animate(i):\n",
    "    \n",
    "    # Draw the maximum sensor horizon\n",
    "    S_max.set_data(S_max_x,S_max_y)\n",
    "    \n",
    "    \n",
    "    # Draw the obstacles as just a bunch of points\n",
    "    \n",
    "    all_obs_x = []\n",
    "    all_obs_y = []\n",
    "    \n",
    "    for obs in obsField.ObstaclesList:\n",
    "        all_obs_x.append(obs.xtraj[i]) #+ obs.plotX) put back in this to plot little points around the circle\n",
    "        all_obs_y.append(obs.ytraj[i]) #+ obs.plotY)\n",
    "    \n",
    "    #all_obs_x = [x_obj1[i], x_obj2[i]]\n",
    "    #all_obs_y = [y_obj1[i], y_obj2[i]]\n",
    "    obstacles.set_data(all_obs_x, all_obs_y)\n",
    "    \n",
    "    # Draw in the time\n",
    "    time_text.set_text(time_template%(i*dt))\n",
    "    \n",
    "    xlist = []\n",
    "    ylist = []\n",
    "    # Draw the laser intersecting obstacles\n",
    "    for lasenum in range(len(laseAngles)):\n",
    "\n",
    "        x_laser_endpoint = x_laser_endpointTraj[i,lasenum]\n",
    "        y_laser_endpoint = y_laser_endpointTraj[i,lasenum]\n",
    "        \n",
    "        xlist.append([[0,x_laser_endpoint]])\n",
    "        ylist.append([[0,y_laser_endpoint]])\n",
    "\n",
    "    \n",
    "    for lnum,line in enumerate(laserLines):\n",
    "        line.set_data(xlist[lnum], ylist[lnum]) # set data for each line separately. \n",
    "\n",
    "    return obstacles, time_text, laserLines\n",
    "\n",
    "ani = animation.FuncAnimation(fig, animate, np.arange(1, len(y)),\n",
    "    interval=20, blit=False, init_func=init)\n",
    "ani.save('bot.mp4', fps=20, bitrate=5000, codec=\"h264\", writer=writer)\n",
    "plt.show()"
   ]
  },
  {
   "cell_type": "code",
   "execution_count": 4,
   "metadata": {
    "collapsed": false
   },
   "outputs": [
    {
     "data": {
      "text/plain": [
       "256"
      ]
     },
     "execution_count": 4,
     "metadata": {},
     "output_type": "execute_result"
    }
   ],
   "source": [
    "import os\n",
    "os.system(\"rm bot_h264.mp4\")\n",
    "os.system(\"avconv -i bot.mp4 -c:v h264 -c:a copy bot_h264.mp4\")"
   ]
  },
  {
   "cell_type": "code",
   "execution_count": 5,
   "metadata": {
    "collapsed": false
   },
   "outputs": [
    {
     "ename": "IOError",
     "evalue": "[Errno 2] No such file or directory: '/Users/pflomacpro/GeometricPDEs/_Plane/bot_h264.mp4'",
     "output_type": "error",
     "traceback": [
      "\u001b[0;31m---------------------------------------------------------------------------\u001b[0m",
      "\u001b[0;31mIOError\u001b[0m                                   Traceback (most recent call last)",
      "\u001b[0;32m<ipython-input-5-7f112b15c28a>\u001b[0m in \u001b[0;36m<module>\u001b[0;34m()\u001b[0m\n\u001b[1;32m      4\u001b[0m \u001b[0;32mfrom\u001b[0m \u001b[0mIPython\u001b[0m\u001b[0;34m.\u001b[0m\u001b[0mdisplay\u001b[0m \u001b[0;32mimport\u001b[0m \u001b[0mHTML\u001b[0m\u001b[0;34m\u001b[0m\u001b[0m\n\u001b[1;32m      5\u001b[0m \u001b[0;34m\u001b[0m\u001b[0m\n\u001b[0;32m----> 6\u001b[0;31m \u001b[0mvideo\u001b[0m \u001b[0;34m=\u001b[0m \u001b[0mio\u001b[0m\u001b[0;34m.\u001b[0m\u001b[0mopen\u001b[0m\u001b[0;34m(\u001b[0m\u001b[0;34m'/Users/pflomacpro/GeometricPDEs/_Plane/bot_h264.mp4'\u001b[0m\u001b[0;34m,\u001b[0m \u001b[0;34m'r+b'\u001b[0m\u001b[0;34m)\u001b[0m\u001b[0;34m.\u001b[0m\u001b[0mread\u001b[0m\u001b[0;34m(\u001b[0m\u001b[0;34m)\u001b[0m\u001b[0;34m\u001b[0m\u001b[0m\n\u001b[0m\u001b[1;32m      7\u001b[0m \u001b[0mencoded\u001b[0m \u001b[0;34m=\u001b[0m \u001b[0mbase64\u001b[0m\u001b[0;34m.\u001b[0m\u001b[0mb64encode\u001b[0m\u001b[0;34m(\u001b[0m\u001b[0mvideo\u001b[0m\u001b[0;34m)\u001b[0m\u001b[0;34m\u001b[0m\u001b[0m\n\u001b[1;32m      8\u001b[0m HTML(data='''<video alt=\"test\" controls>\n",
      "\u001b[0;31mIOError\u001b[0m: [Errno 2] No such file or directory: '/Users/pflomacpro/GeometricPDEs/_Plane/bot_h264.mp4'"
     ]
    }
   ],
   "source": [
    "import os\n",
    "import io\n",
    "import base64\n",
    "from IPython.display import HTML\n",
    "\n",
    "video = io.open('/Users/pflomacpro/GeometricPDEs/_Plane/bot_h264.mp4', 'r+b').read()\n",
    "encoded = base64.b64encode(video)\n",
    "HTML(data='''<video alt=\"test\" controls>\n",
    "                <source src=\"data:video/mp4;base64,{0}\" type=\"video/mp4\" />\n",
    "             </video>'''.format(encoded.decode('ascii')))"
   ]
  },
  {
   "cell_type": "code",
   "execution_count": null,
   "metadata": {
    "collapsed": true
   },
   "outputs": [],
   "source": []
  }
 ],
 "metadata": {
  "kernelspec": {
   "display_name": "Python 2",
   "language": "python",
   "name": "python2"
  },
  "language_info": {
   "codemirror_mode": {
    "name": "ipython",
    "version": 2
   },
   "file_extension": ".py",
   "mimetype": "text/x-python",
   "name": "python",
   "nbconvert_exporter": "python",
   "pygments_lexer": "ipython2",
   "version": "2.7.10"
  }
 },
 "nbformat": 4,
 "nbformat_minor": 0
}
