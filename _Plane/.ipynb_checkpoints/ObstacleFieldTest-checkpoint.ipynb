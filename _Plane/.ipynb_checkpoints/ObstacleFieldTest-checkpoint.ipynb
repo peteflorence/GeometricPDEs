{
 "cells": [
  {
   "cell_type": "code",
   "execution_count": 1,
   "metadata": {
    "collapsed": false
   },
   "outputs": [
    {
     "name": "stdout",
     "output_type": "stream",
     "text": [
      "3 4\n",
      "3 4\n",
      "Obstacle 1 center:\n",
      "3 4\n",
      "Obstacle 2 center:\n",
      "-3 2\n"
     ]
    }
   ],
   "source": [
    "from ObstacleField import ObstacleField\n",
    "from Obstacle import Obstacle\n",
    "        \n",
    "        \n",
    "obs1 = Obstacle(3,4)\n",
    "obs1.printCenter()\n",
    "xlist, ylist = obs1.plotLists()\n",
    "\n",
    "obs2 = Obstacle(-3,2)\n",
    "obs1.printCenter()\n",
    "xlist, ylist = obs1.plotLists()\n",
    "\n",
    "#%matplotlib inline\n",
    "#plt.plot(xlist,ylist)\n",
    "#plt.show()\n",
    "\n",
    "obsField = ObstacleField()\n",
    "obsField.addObstacle(obs1)\n",
    "obsField.addObstacle(obs2)\n",
    "obsField.printObstacles()"
   ]
  },
  {
   "cell_type": "code",
   "execution_count": null,
   "metadata": {
    "collapsed": true
   },
   "outputs": [],
   "source": []
  }
 ],
 "metadata": {
  "kernelspec": {
   "display_name": "Python 2",
   "language": "python",
   "name": "python2"
  },
  "language_info": {
   "codemirror_mode": {
    "name": "ipython",
    "version": 2
   },
   "file_extension": ".py",
   "mimetype": "text/x-python",
   "name": "python",
   "nbconvert_exporter": "python",
   "pygments_lexer": "ipython2",
   "version": "2.7.10"
  }
 },
 "nbformat": 4,
 "nbformat_minor": 0
}
