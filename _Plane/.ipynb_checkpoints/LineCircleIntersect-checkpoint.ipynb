{
 "cells": [
  {
   "cell_type": "code",
   "execution_count": 124,
   "metadata": {
    "collapsed": false
   },
   "outputs": [
    {
     "name": "stdout",
     "output_type": "stream",
     "text": [
      "Populating the interactive namespace from numpy and matplotlib\n",
      "could be intersection...\n",
      "yes there is an intersection!\n",
      "[ 2.03325436  4.74426017]\n"
     ]
    },
    {
     "data": {
      "image/png": "[encoded data removed]",
      "text/plain": [
       "<matplotlib.figure.Figure at 0x114218a10>"
      ]
     },
     "metadata": {},
     "output_type": "display_data"
    }
   ],
   "source": [
    "# following easy writeup at http://codereview.stackexchange.com/questions/86421/line-segment-to-circle-collision-algorithm\n",
    "\n",
    "import numpy as np\n",
    "import math\n",
    "\n",
    "Q = np.array((3,5))                  # Centre of circle\n",
    "r = 1                  # Radius of circle\n",
    "\n",
    "t = np.linspace(-math.pi,math.pi,100)\n",
    "x = r*np.cos(t) + Q[0]\n",
    "y = r*np.sin(t) + Q[1]\n",
    "\n",
    "\n",
    "%pylab inline\n",
    "plt.plot(x,y)\n",
    "plt.axis('equal')\n",
    "plt.axis([-10, 10, -10, 10])\n",
    "\n",
    "\n",
    "P1 = np.array((0,0))      # Start of line segment\n",
    "P2 = np.array((3,7))*1.0\n",
    "V = P2 - P1 # Vector along line segment\n",
    "\n",
    "plt.plot([P1[0],P2[0]],[P1[1],P2[1]])\n",
    "\n",
    "\n",
    "\n",
    "def intersect(P1, V, Q, r):\n",
    "    a = V.dot(V)\n",
    "    b = 2.0 * V.dot(P1 - Q)\n",
    "    c = P1.dot(P1) + Q.dot(Q) - 2.0 * P1.dot(Q) - r**2\n",
    "\n",
    "\n",
    "    disc = b**2 - 4.0 * a * c\n",
    "    if disc < 0:\n",
    "        print \"no intersection\"\n",
    "        return False, None\n",
    "\n",
    "    print \"could be intersection...\"\n",
    "    sqrt_disc = math.sqrt(disc)\n",
    "    t1 = (-b + sqrt_disc) / (2.0 * a)\n",
    "    t2 = (-b - sqrt_disc) / (2.0 * a)\n",
    "\n",
    "    if not (0 <= t1 <= 1 or 0 <= t2 <= 1):\n",
    "        print \"would intersect if line was extended\"\n",
    "        return False, None\n",
    "   \n",
    "    #t = max(0, min(1, - b / (2.0 * a)))\n",
    "    \n",
    "    # Choose whichever t1 or t2 is closer\n",
    "    if (0 <= t1 <= 1 and t1 < t2):\n",
    "        t = t1\n",
    "    else:\n",
    "        t = t2\n",
    "\n",
    "    print \"yes there is an intersection!\"\n",
    "    pt = P1 + t * V\n",
    "    return True, pt\n",
    "    \n",
    "    \n",
    "_, pt = intersect(P1,V,Q,r)\n",
    "print pt\n",
    "if pt is not None:\n",
    "    plt.plot(pt[0],pt[1],'o')\n",
    "#plt.scatter(pt[0],pt[1])\n",
    "plt.show()"
   ]
  },
  {
   "cell_type": "code",
   "execution_count": null,
   "metadata": {
    "collapsed": true
   },
   "outputs": [],
   "source": [
    "from LineCircleIntersect import intersect\n",
    "\n",
    "# following easy writeup at http://codereview.stackexchange.com/questions/86421/line-segment-to-circle-collision-algorithm\n",
    "\n",
    "import numpy as np\n",
    "import math\n",
    "\n",
    "Q = np.array((3,5))                  # Centre of circle\n",
    "r = 1                  # Radius of circle\n",
    "\n",
    "t = np.linspace(-math.pi,math.pi,100)\n",
    "x = r*np.cos(t) + Q[0]\n",
    "y = r*np.sin(t) + Q[1]\n",
    "\n",
    "\n",
    "%pylab inline\n",
    "plt.plot(x,y)\n",
    "plt.axis('equal')\n",
    "plt.axis([-10, 10, -10, 10])\n",
    "\n",
    "\n",
    "P1 = np.array((0,0))      # Start of line segment\n",
    "P2 = np.array((3,7))*1.0\n",
    "V = P2 - P1 # Vector along line segment\n",
    "\n",
    "plt.plot([P1[0],P2[0]],[P1[1],P2[1]])\n",
    "\n",
    "_, pt = intersect(P1,V,Q,r)\n",
    "print pt\n",
    "if pt is not None:\n",
    "    plt.plot(pt[0],pt[1],'o')\n",
    "#plt.scatter(pt[0],pt[1])\n",
    "plt.show()\n"
   ]
  }
 ],
 "metadata": {
  "kernelspec": {
   "display_name": "Python 2",
   "language": "python",
   "name": "python2"
  },
  "language_info": {
   "codemirror_mode": {
    "name": "ipython",
    "version": 2
   },
   "file_extension": ".py",
   "mimetype": "text/x-python",
   "name": "python",
   "nbconvert_exporter": "python",
   "pygments_lexer": "ipython2",
   "version": "2.7.10"
  }
 },
 "nbformat": 4,
 "nbformat_minor": 0
}
