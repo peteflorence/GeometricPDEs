{
 "cells": [
  {
   "cell_type": "code",
   "execution_count": 1,
   "metadata": {
    "collapsed": true
   },
   "outputs": [],
   "source": [
    "# This example uses a MovieWriter directly to grab individual frames and\n",
    "# write them to a file. This avoids any event loop integration, but has\n",
    "# the advantage of working with even the Agg backend. This is not recommended\n",
    "# for use in an interactive setting.\n",
    "# -*- noplot -*-\n",
    "\n",
    "import numpy as np\n",
    "import matplotlib\n",
    "matplotlib.use(\"Agg\")\n",
    "import matplotlib.pyplot as plt\n",
    "import matplotlib.animation as manimation\n",
    "\n",
    "FFMpegWriter = manimation.writers['ffmpeg']\n",
    "metadata = dict(title='Movie Test', artist='Matplotlib',\n",
    "        comment='Movie support!')\n",
    "writer = FFMpegWriter(fps=15, metadata=metadata)\n",
    "\n",
    "fig = plt.figure()\n",
    "l, = plt.plot([], [], 'k-o')\n",
    "\n",
    "plt.xlim(-5, 5)\n",
    "plt.ylim(-5, 5)\n",
    "\n",
    "x0,y0 = 0, 0\n",
    "\n",
    "with writer.saving(fig, \"writer_test.mp4\", 100):\n",
    "    for i in range(100):\n",
    "        x0 += 0.1 * np.random.randn()\n",
    "        y0 += 0.1 * np.random.randn()\n",
    "        l.set_data(x0, y0)\n",
    "        writer.grab_frame()"
   ]
  },
  {
   "cell_type": "code",
   "execution_count": null,
   "metadata": {
    "collapsed": true
   },
   "outputs": [],
   "source": []
  }
 ],
 "metadata": {
  "kernelspec": {
   "display_name": "Python 2",
   "language": "python",
   "name": "python2"
  },
  "language_info": {
   "codemirror_mode": {
    "name": "ipython",
    "version": 2
   },
   "file_extension": ".py",
   "mimetype": "text/x-python",
   "name": "python",
   "nbconvert_exporter": "python",
   "pygments_lexer": "ipython2",
   "version": "2.7.10"
  }
 },
 "nbformat": 4,
 "nbformat_minor": 0
}
