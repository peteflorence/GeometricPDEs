{
 "cells": [
  {
   "cell_type": "markdown",
   "metadata": {},
   "source": [
    "We are interested in formulating output feedback controllers that use the dynamics of implicit surface representations to find control inputs.  We'd like to be able to verify these controllers via the safety verification method (or something close to that) described in Barry, Majumdar, Tedrake *(2012)*.\n",
    "\n",
    "Consider a known function $s$ which maps from $[-\\frac{\\theta_{FOV}}{2},\\frac{\\theta_{FOV}}{2}]$ to the distance of a UAV, where $S_{max}$ is the moving maximum sensing horizon of the sensor.\n",
    "\n",
    "$$s: [-\\frac{\\theta_{FOV}}{2},\\frac{\\theta_{FOV}}{2}] \\rightarrow [0,S_{max}] $$"
   ]
  },
  {
   "cell_type": "markdown",
   "metadata": {},
   "source": [
    "The distance $s$ may also be thought of as the Euclidean distance from the $0$-level-set of the signed distance function (SDF) for the set of obstacles.  A side-effect benefit of this approach is that we can naturally use implicit surface representations produced by fusion algorithms of depth sensor information (i.e. Kinect Fusion, etc.)"
   ]
  },
  {
   "cell_type": "markdown",
   "metadata": {},
   "source": [
    "What we need to find is a geometric PDE somewhat of the form:\n",
    "\n",
    "$$ \\frac{\\partial}{\\partial t}  s(\\theta)  = f(\\psi, u(s))$$\n",
    "\n"
   ]
  },
  {
   "cell_type": "markdown",
   "metadata": {},
   "source": [
    "Where $\\psi$ is the yaw of the UAV and $u$ is some control input that may be calculated via a reactive controller, for example of the form:\n",
    "\n",
    "$$ u = k_1\\int w_1(\\theta)s(\\theta)d\\theta + k_2\\int w_s(\\theta)s(\\theta)d\\theta$$"
   ]
  },
  {
   "cell_type": "markdown",
   "metadata": {},
   "source": [
    "We need to use a finite dimensional space to approximate the function $s$.\n",
    "\n",
    "Given some vector of basis functions $\\mathbf{w}$ and vector of weights $\\mathbf{c}$ we can approximate $s$ as:\n",
    "\n",
    "$$ s(\\theta) \\approx c_1w_1(\\theta) + c_2w_2(\\theta) + ... + c_Nw_n(\\theta) $$\n",
    "\n",
    "Which then gives us a PDE that approximates $f$:\n",
    "\n",
    "$$ \\frac{\\partial}{\\partial t} s(\\theta) \\approx \\dot{c}_1w_1(\\theta) + \\dot{c}_2w_2(\\theta) + ... + \\dot{c}_Nw_N(\\theta) $$\n",
    "\n",
    "$$ \\approx f(\\psi, u(s))$$"
   ]
  },
  {
   "cell_type": "markdown",
   "metadata": {},
   "source": [
    "We can now instead think of $f$ as a vector $\\mathbf{f}$ which is a function $\\mathbf{f}(c_0,c_1,...,c_N,\\theta,\\dot{\\psi)}$, and whose elements are $f_1, f_2, ..., f_N$.  Also write $\\mathbf{c}$ as the vector $\\mathbf{c} = (c_1,c_2,...,c_N)$.  We have \n",
    "\n",
    "$$ \\frac{\\partial}{\\partial t} \\mathbf{c} = \\begin{pmatrix}\n",
    "        f_1(\\mathbf{c}, \\dot{\\psi}) \\\\\n",
    "        f_2(\\mathbf{c}, \\dot{\\psi}) \\\\\n",
    "        \\vdots \\\\\n",
    "        f_N(\\mathbf{c}, \\dot{\\psi}) \\\\\n",
    "        \\end{pmatrix} $$\n",
    "\n"
   ]
  },
  {
   "cell_type": "code",
   "execution_count": 3,
   "metadata": {
    "collapsed": false
   },
   "outputs": [
    {
     "name": "stdout",
     "output_type": "stream",
     "text": [
      "13.0\n",
      "0.199577506757\n",
      "10.4403065089\n",
      "0.954681910236\n"
     ]
    },
    {
     "data": {
      "image/png": "[encoded data removed]",
      "text/plain": [
       "<matplotlib.figure.Figure at 0x11e6a6b90>"
      ]
     },
     "metadata": {},
     "output_type": "display_data"
    }
   ],
   "source": [
    "import IPython.html.widgets as widgets\n",
    "from IPython.display import display\n",
    "import matplotlib.pyplot as plt\n",
    "import numpy as np\n",
    "\n",
    "%matplotlib inline\n",
    "\n",
    "from planeVis import plotPlane\n",
    "theta_slider = widgets.FloatSlider(min=-90, max=90, step=1, value=0)\n",
    "\n",
    "w=widgets.interactive(plotPlane,theta_deg=theta_slider)\n",
    "display(w)"
   ]
  },
  {
   "cell_type": "code",
   "execution_count": null,
   "metadata": {
    "collapsed": true
   },
   "outputs": [],
   "source": []
  },
  {
   "cell_type": "code",
   "execution_count": null,
   "metadata": {
    "collapsed": true
   },
   "outputs": [],
   "source": []
  }
 ],
 "metadata": {
  "kernelspec": {
   "display_name": "Python 2",
   "language": "python",
   "name": "python2"
  },
  "language_info": {
   "codemirror_mode": {
    "name": "ipython",
    "version": 2
   },
   "file_extension": ".py",
   "mimetype": "text/x-python",
   "name": "python",
   "nbconvert_exporter": "python",
   "pygments_lexer": "ipython2",
   "version": "2.7.10"
  }
 },
 "nbformat": 4,
 "nbformat_minor": 0
}
