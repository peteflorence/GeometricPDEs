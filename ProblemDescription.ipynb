{
 "cells": [
  {
   "cell_type": "markdown",
   "metadata": {},
   "source": [
    "We are interested in formulating output feedback controllers that use the dynamics of implicit surface representations to find control inputs.  We'd like to be able to verify these controllers via the safety verification method (or something close to that) described in Barry, Majumdar, Tedrake *(2012)*.\n",
    "\n",
    "Consider a known function $s$ which maps from $[-\\frac{\\theta_{FOV}}{2},\\frac{\\theta_{FOV}}{2}]$ to the distance of a UAV, where $S_{max}$ is the moving maximum sensing horizon of the sensor.\n",
    "\n",
    "$$s: [-\\frac{\\theta_{FOV}}{2},\\frac{\\theta_{FOV}}{2}] \\rightarrow [0,S_{max}] $$\n",
    "\n",
    "We like $s$ as a continous function since then we avoid having a hybrid system.  (What do we call a non-hybrid system?)"
   ]
  },
  {
   "cell_type": "markdown",
   "metadata": {},
   "source": [
    "The distance $s$ may also be thought of as the Euclidean distance from the $0$-level-set of the signed distance function (SDF) for the set of obstacles.  A side-effect benefit of this approach is that we can naturally use implicit surface representations produced by fusion algorithms of depth sensor information (i.e. Kinect Fusion, etc.)"
   ]
  },
  {
   "cell_type": "markdown",
   "metadata": {},
   "source": [
    "What we need to find is a geometric PDE somewhat of the form:\n",
    "\n",
    "$$ \\frac{\\partial}{\\partial t}  s(\\theta)  = f(s,\\psi, u(s))$$\n",
    "\n"
   ]
  },
  {
   "cell_type": "markdown",
   "metadata": {},
   "source": [
    "Where $\\psi$ is the yaw of the UAV and $u$ is some control input.  The $f$ will contain partial derivatives and may be thought of as an operator. that may be calculated via a reactive controller, for example of the form:\n",
    "\n",
    "$$ u = k_1\\int w_1(\\theta)s(\\theta)d\\theta + k_2\\int w_s(\\theta)s(\\theta)d\\theta$$"
   ]
  },
  {
   "cell_type": "markdown",
   "metadata": {},
   "source": [
    "We need to use a finite dimensional space to approximate the function $s$.\n",
    "\n",
    "Given some vector of basis functions $\\mathbf{w}$ (maybe polynomial basis?) and vector of weights $\\mathbf{c}$ we can approximate $s$ as:\n",
    "\n",
    "$$ s(\\theta) \\approx c_1w_1(\\theta) + c_2w_2(\\theta) + ... + c_Nw_n(\\theta) $$\n",
    "\n",
    "Which then gives us a PDE that approximates $f$:\n",
    "\n",
    "$$ \\frac{\\partial}{\\partial t} s(\\theta) \\approx \\dot{c}_1w_1(\\theta) + \\dot{c}_2w_2(\\theta) + ... + \\dot{c}_Nw_N(\\theta) $$\n",
    "\n",
    "$$ \\approx f(\\psi, u(s))$$"
   ]
  },
  {
   "cell_type": "markdown",
   "metadata": {},
   "source": [
    "We can now instead think of $f$ as a vector $\\mathbf{f}$ which is a function $\\mathbf{f}(c_0,c_1,...,c_N,\\theta,\\dot{\\psi)}$, and whose elements are $f_1, f_2, ..., f_N$.  Also write $\\mathbf{c}$ as the vector $\\mathbf{c} = (c_1,c_2,...,c_N)$.  \n",
    "\n",
    "We now have an ODE for the weights:\n",
    "\n",
    "$$ \\frac{d}{d t} \\mathbf{c} = \\begin{pmatrix}\n",
    "        f_1(\\mathbf{c}, \\dot{\\psi}) \\\\\n",
    "        f_2(\\mathbf{c}, \\dot{\\psi}) \\\\\n",
    "        \\vdots \\\\\n",
    "        f_N(\\mathbf{c}, \\dot{\\psi}) \\\\\n",
    "        \\end{pmatrix} $$\n",
    "\n"
   ]
  },
  {
   "cell_type": "markdown",
   "metadata": {},
   "source": [
    "### Assumptions of the environment\n",
    "\n",
    "Will always assume that there is an obstacle wherever we cannot see.\n",
    "\n",
    "Can also assume that there are obstacles immediately beyond our maximum sensor distance.\n",
    "\n",
    "### Memory of environment\n",
    "\n",
    "We would like to be able to deal with the issue of seeing something, then turning away from it, but being able to remember it was there.  \n",
    "\n",
    "One way to be able to do this is to have our basis functions defined over the entire domain $[0,2\\pi]$.  This generalizes easily to when we have sensors that can see a full 360 degrees. For sensors with limited FOVs, we should make sure our basis functions decay rapidly near the edges.\n",
    "\n",
    "It is possible that we may naturally impose *memory leakage* if our basis functions cause information outside of our FOV to be naturaly drawn down farther.  One option would be to regularize basis functions outside of the FOV.\n",
    "\n",
    "### Choice of basis functions\n",
    "\n",
    "A polynomial basis would naturally lead to SOS.  It may be unclear, however, to know how to stay away from the weights $\\textbf{c}$ of polynomial bases.  (It is not clear how each $c_i$ should indicate where obstacles are).\n",
    "\n",
    "An easy choice of basis functions would be step functions, but then we would worry about hybrid dynamics.\n",
    "\n",
    "A similar choice but one the preserves continuity is radial basis functions.  Gaussian radial basis functions seem to be a fine choice.  Ani thinks we can still do SOS with linear combinations of Gaussians.\n",
    "\n",
    "Options:\n",
    "\n",
    "- polynomials\n",
    "- trig polynomials\n",
    "- linear combinations of Gaussians\n",
    "- inverse quadratic $\\phi(r) = \\frac{1}{1 + (\\epsilon r)^2} $\n",
    "\n",
    "Set of basis functions needs to be:\n",
    "\n",
    "- closed under addition\n",
    "- closed under scaling\n",
    "- closed under multiplication\n",
    "\n",
    "### Image space vs. 2D\n",
    "\n",
    "What is nice about thinking in image space is that we just define distances to obstacles as a function of one variable.\n",
    "\n",
    "If we think in 2D, then it is more similar to the signed distance function representation."
   ]
  },
  {
   "cell_type": "markdown",
   "metadata": {},
   "source": [
    "## Simple 2D, fixed position, rotation-only with a 2D laser scanner\n",
    "\n",
    "Believe that our PDE is:\n",
    "\n",
    "$$ \\frac{\\partial s}{\\partial t} = \\frac{\\partial s}{\\partial \\theta} \\dot{\\psi} $$\n",
    "\n",
    "Where $s(\\theta,t)$ is the distance to an obstacle at time $t$ and angle $\\theta$, and $\\dot{\\psi}$ is the rate of rotation of the vehicle.  If we assume that we can directly control the rate of change, then $u = \\dot{\\psi}$ and we have:\n",
    "\n",
    "$$ \\frac{\\partial}{\\partial t} s = \\frac{\\partial}{\\partial \\theta} u $$\n",
    "\n",
    "Which simplifies to what we would expect if we can directly change our yaw rate:\n",
    "\n",
    "$$ \\frac{\\partial}{\\partial t} \\theta = \\dot{\\psi} $$"
   ]
  },
  {
   "cell_type": "markdown",
   "metadata": {},
   "source": [
    "**Questions**\n",
    "\n",
    "- How to use SDFs?\n",
    "- Why use image space rather than project out into 2D / 3D?\n",
    "- Getting to SOS?\n",
    "\n",
    "- How do we define what is an obstacle, in terms of $\\mathbf{c}$?\n",
    "\n",
    "- How do we synthesize a controller?"
   ]
  },
  {
   "cell_type": "code",
   "execution_count": 1,
   "metadata": {
    "collapsed": false
   },
   "outputs": [
    {
     "name": "stdout",
     "output_type": "stream",
     "text": [
      "13.0\n",
      "0.00759128903766\n",
      "10.4403065089\n",
      "0.762695692516\n"
     ]
    },
    {
     "data": {
      "image/png": "[encoded data removed]",
      "text/plain": [
       "<matplotlib.figure.Figure at 0x11a38c210>"
      ]
     },
     "metadata": {},
     "output_type": "display_data"
    }
   ],
   "source": [
    "import IPython.html.widgets as widgets\n",
    "from IPython.display import display\n",
    "import matplotlib.pyplot as plt\n",
    "import numpy as np\n",
    "\n",
    "%matplotlib inline\n",
    "\n",
    "from planeVis import plotPlane\n",
    "theta_slider = widgets.FloatSlider(min=-90, max=90, step=1, value=0)\n",
    "\n",
    "w=widgets.interactive(plotPlane,theta_deg=theta_slider)\n",
    "display(w)"
   ]
  },
  {
   "cell_type": "code",
   "execution_count": null,
   "metadata": {
    "collapsed": true
   },
   "outputs": [],
   "source": []
  },
  {
   "cell_type": "code",
   "execution_count": null,
   "metadata": {
    "collapsed": true
   },
   "outputs": [],
   "source": []
  }
 ],
 "metadata": {
  "kernelspec": {
   "display_name": "Python 2",
   "language": "python",
   "name": "python2"
  },
  "language_info": {
   "codemirror_mode": {
    "name": "ipython",
    "version": 2
   },
   "file_extension": ".py",
   "mimetype": "text/x-python",
   "name": "python",
   "nbconvert_exporter": "python",
   "pygments_lexer": "ipython2",
   "version": "2.7.10"
  }
 },
 "nbformat": 4,
 "nbformat_minor": 0
}
