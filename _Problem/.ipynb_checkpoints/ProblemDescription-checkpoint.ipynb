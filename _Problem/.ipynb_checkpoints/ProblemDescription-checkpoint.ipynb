{
 "cells": [
  {
   "cell_type": "markdown",
   "metadata": {},
   "source": [
    "We are interested in formulating output feedback controllers that use the dynamics of implicit surface representations to find control inputs.  We'd like to be able to verify these controllers via the safety verification method (or something close to that) described in Barry, Majumdar, Tedrake *(2012)*.\n",
    "\n",
    "Consider a known function $s$ which maps from $[-\\frac{\\theta_{FOV}}{2},\\frac{\\theta_{FOV}}{2}]$ to the raycasted distance to an obstacle, where $S_{max}$ is the moving maximum sensing horizon of the sensor.\n",
    "\n",
    "$$s: [-\\frac{\\theta_{FOV}}{2},\\frac{\\theta_{FOV}}{2}] \\rightarrow [0,S_{max}] $$\n",
    "\n",
    "We like $s$ as a continous function since then we don't need to consider a hybrid system.\n",
    "\n",
    "As a special case, we first focus on a sensor that has a 360 degree field of view (FOV), and we can later consider the problem of having obstacles move in and out of sensor FOV:\n",
    "\n",
    "$$s: [-\\pi,\\pi] \\rightarrow [0,S_{max}] $$"
   ]
  },
  {
   "cell_type": "markdown",
   "metadata": {},
   "source": [
    "The distance $s$ may also be thought of as the Euclidean distance from the $0$-level-set of the signed distance function (SDF) for the set of obstacles.  A side-effect benefit of this approach is that we can naturally use implicit surface representations produced by fusion algorithms of depth sensor information (i.e. Kinect Fusion, etc.)"
   ]
  },
  {
   "cell_type": "markdown",
   "metadata": {},
   "source": [
    "What we need to find is a geometric PDE somewhat of the form:\n",
    "\n",
    "$$ \\frac{\\partial}{\\partial t}  s(\\theta)  = f(s,\\psi, \\dot{\\psi})$$\n",
    "\n",
    "And in our Dubin's car model (assume constant linear velocity too) we can directly control $\\dot{\\psi} = u$ and would like to do so as a function of $s$ only.  ($u=u(s)$):\n",
    "\n",
    "$$ \\frac{\\partial}{\\partial t}  s(\\theta)  = f(s,\\psi, u(s))$$"
   ]
  },
  {
   "cell_type": "markdown",
   "metadata": {},
   "source": [
    "Where $\\psi$ is the yaw of the UAV and $u$ is some control input.  The $f$ will contain partial derivatives and may be thought of as an operator. The control input $u$ may be calculated via a reactive controller, for example of the form:\n",
    "\n",
    "$$ u = k_1\\int w_1(\\theta)s(\\theta)d\\theta + k_2\\int w_s(\\theta)s(\\theta)d\\theta$$"
   ]
  },
  {
   "cell_type": "markdown",
   "metadata": {},
   "source": [
    "What we would really like to do is, given a finite dimensional approximation of all possible obstacle environments, be able to search for the optimal output feedback controller that applies to all possible environments.\n",
    "\n",
    "Hence we need to use a finite dimensional space to approximate the function $s$.\n",
    "\n",
    "Given some vector of basis functions $\\mathbf{w}$ and vector of weights $\\mathbf{c}$ we can approximate $s$ as:\n",
    "\n",
    "$$ s(\\theta) \\approx c_1w_1(\\theta) + c_2w_2(\\theta) + ... + c_Nw_n(\\theta) $$\n",
    "\n",
    "Which then gives us a PDE that approximates $f$:\n",
    "\n",
    "$$ \\frac{\\partial}{\\partial t} s(\\theta) \\approx \\dot{c}_1w_1(\\theta) + \\dot{c}_2w_2(\\theta) + ... + \\dot{c}_Nw_N(\\theta) $$\n",
    "\n",
    "$$ \\approx f(s,\\psi, \\dot{\\psi})$$"
   ]
  },
  {
   "cell_type": "markdown",
   "metadata": {},
   "source": [
    "Let us define that:\n",
    "\n",
    "$$ s_{approx}(\\theta) = c_1w_1(\\theta) + c_2w_2(\\theta) + ... + c_Nw_n(\\theta) $$\n",
    "\n",
    "$$ \\frac{\\partial}{\\partial t} s_{approx}(\\theta) = \\dot{c}_1w_1(\\theta) + \\dot{c}_2w_2(\\theta) + ... + \\dot{c}_Nw_N(\\theta) $$\n",
    "\n",
    "We can now instead think of $f$ as a vector $\\mathbf{f}$ which is a function $\\mathbf{f}(c_0,c_1,...,c_N,\\theta,\\dot{\\psi)}$, and whose elements are $f_1, f_2, ..., f_N$.  Also write $\\mathbf{c}$ as the vector $\\mathbf{c} = (c_1,c_2,...,c_N)$.  \n",
    "\n",
    "We now have an ODE for the weights:\n",
    "\n",
    "$$ \\frac{d}{d t} \\mathbf{c} = \\begin{pmatrix}\n",
    "        f_1(\\mathbf{c}, \\dot{\\psi}) \\\\\n",
    "        f_2(\\mathbf{c}, \\dot{\\psi}) \\\\\n",
    "        \\vdots \\\\\n",
    "        f_N(\\mathbf{c}, \\dot{\\psi}) \\\\\n",
    "        \\end{pmatrix} $$\n",
    "\n"
   ]
  },
  {
   "cell_type": "markdown",
   "metadata": {},
   "source": [
    "How to determine each $f_i$?\n",
    "\n",
    "Here's what I'm thinking:\n",
    "\n",
    "- What we want to know is just whether each weight, $c_i$, is increasing or decreasing and at what rate.  $c_i$ is just a scalar weight, all it can do is go up or down\n",
    "\n",
    "- Clearly the derivative of $c_i$ needs to depend on what all the other weights $c_1,...,c_n$ are, since as we rotate, the regions that used to belong to $c_i$ will move other to the regions of other basis functions\n"
   ]
  },
  {
   "cell_type": "markdown",
   "metadata": {},
   "source": [
    "### Assumptions of the environment\n",
    "\n",
    "Will always assume that there is an obstacle ($s=0$) wherever we cannot see.\n",
    "\n",
    "Can also assume that there are obstacles immediately beyond our maximum sensor distance ($s=S_{max}$).\n",
    "\n",
    "### Memory of environment\n",
    "\n",
    "We would like to be able to deal with the issue of seeing something, then turning away from it, but being able to remember it was there.  \n",
    "\n",
    "One way to be able to do this is to have our basis functions defined over the entire domain $[0,2\\pi]$.  This generalizes easily to when we have sensors that can see a full 360 degrees. For sensors with limited FOVs, we could make our basis functions decay near the edges.  It is possible that we may naturally impose *memory leakage* if our basis functions cause information outside of our FOV to be naturaly drawn down farther.  One option would be to regularize basis functions outside of the FOV.\n",
    "\n",
    "### Choice of basis functions\n",
    "\n",
    "A polynomial basis would naturally lead to SOS verification.  It might not be easy, however, to know how to \"stay away\" from the weights $\\textbf{c}$ of polynomial bases.  (It is not clear how each $c_i$ should indicate where obstacles are).\n",
    "\n",
    "An easy choice of basis functions would be preiodic (over $2\\pi$) step functions, but then we would worry about hybrid dynamics.\n",
    "\n",
    "A similar choice but one the preserves continuity is radial basis functions.  Gaussian radial basis functions seem to be a fine choice.  Ani thinks we can still do SOS with linear combinations of Gaussians.\n",
    "\n",
    "Options:\n",
    "\n",
    "- polynomials\n",
    "- trig polynomials\n",
    "- linear combinations of Gaussians\n",
    "- inverse quadratic $\\phi(r) = \\frac{1}{1 + (\\epsilon r)^2} $\n",
    "\n",
    "Set of basis functions needs to be:\n",
    "\n",
    "- closed under addition\n",
    "- closed under scaling\n",
    "- closed under multiplication\n",
    "\n",
    "Ani says we can only have up to 12 or 13 basis functions if we're going to use SOS.\n",
    "\n",
    "To look into later: SOS beyond 12/13\n",
    "\n",
    "\n",
    "**Periodic over 2$\\pi$**\n",
    "\n",
    "It is possible that we won't need functions that are periodic over the unit circle.  It's possible that although the ODE approximation to the PDE will leak out of the unit circle, it might be slow enough that we don't care.  Could try just regular Gaussian radial basis functions.\n",
    "\n",
    "But perhaps better to have a function that is indeed periodic over the unit circle, so that if we do a 360 degree turn, we end up with the same parameterization of obstacles in front of us.\n",
    "\n",
    "What I think we want is to have functions that have a uni-modal, tunably sharp peak over the unit circle.  We basically want Gaussian radial basis functions, but ones that are periodic with period $2\\pi$.\n",
    "\n",
    "How can we get those functions?\n",
    "\n",
    "Am trying a Fourier series approximation of Gaussian radial basis function over $[0,2\\pi]$.  A trick is that it is better to use a linear combination of three Gaussians separated by $2\\pi$, so then the periodicity is naturally imposed.  Need to pick the degree of the Fourier series approximation, and this fit is dependent on the sharpness (variance) of the chosen Gaussians.  Note that in this Fourier formulation, there are two \"layers\" of weights.  For each basis function, there are the Fourier weights (numbering $2M$, where $M$ is the degree of the approximation) and this is collectively considered a basis function.... are two eighting of the entire basis function becomes an element in $\\mathbf{c}$\n"
   ]
  },
  {
   "cell_type": "markdown",
   "metadata": {},
   "source": [
    "### Fitting of basis functions to data\n",
    "\n",
    "Started with least squares so far:\n",
    "\n",
    "$$ \\hat{\\mathbf{\\beta}} = (\\Theta^T\\Theta)^{-1}\\Theta^T\\textbf{s} $$\n",
    "\n",
    "Where we have $n$ points $(\\theta_i, s_i)$, and are fitting with coefficients $c_1, ..., c_N$ for our $N$ basis functions $\\phi_1, ..., \\phi_N$:\n",
    "\n",
    "$$\\begin{bmatrix}s_1 \\\\s_2 \\\\ \\vdots \\\\ s_n\\end{bmatrix} \n",
    "= \\begin{bmatrix}\\phi_1(\\theta_1) & \\phi_2(\\theta_1) & \\phi_3(\\theta_1) & ... & \\phi_N(\\theta_1) \\\\ \n",
    "\\phi_1(\\theta_2) & \\phi_2(\\theta_2) & \\phi_3(\\theta_2) & ... & \\phi_N(\\theta_2) \\\\ \n",
    "\\vdots & \\vdots & \\vdots & \\ddots & \\vdots \\\\\n",
    "\\phi_1(\\theta_n) & \\phi_2(\\theta_n) & \\phi_3(\\theta_n) & ... & \\phi_N(\\theta_n) \\\\ \n",
    "\\end{bmatrix} \n",
    "\\begin{bmatrix}c_1 \\\\ c_2 \\\\ \\vdots \\\\ c_N\\end{bmatrix}$$\n",
    "\n",
    "$$\\textbf{s} = X \\mathbf{\\beta}$$\n",
    "\n"
   ]
  },
  {
   "cell_type": "markdown",
   "metadata": {},
   "source": [
    "\n",
    "\n",
    "### Image space vs. 2D\n",
    "\n",
    "What is nice about thinking in image space is that we just define distances to obstacles as a function of one variable.\n",
    "\n",
    "If we think in 2D, then it is more similar to the signed distance function representation.\n",
    "\n",
    "### Controller synthesis\n",
    "\n",
    "Want to maximize some property of $\\mathbf{c} \\in \\mathbb{R}^n$ (where $n = $ # of basis functions) that corresponds to the size of the safety-verified set of conditions $\\mathbf{c}_{t=0}$.\n",
    "\n",
    "The easiest is to imagine a linear combination:\n",
    "\n",
    "$$u=\\mathbf{K} \\cdot \\mathbf{c} $$.  \n",
    "\n",
    "Where $\\mathbf{K}^{1 \\times n}, \\mathbf{c}^{n \\times 1}$. We can either hand-design $K$ or we can search for a $K$ that maximizes the safety-verified set over $\\mathbf{c}$.\n",
    "\n",
    "There are a few different ideas of what property to maximize.\n",
    "\n",
    "1. Maximize volume.  For this, we may need to bound $\\mathbf{c}_{t=0}$ as $\\{\\mathbf{c}_{t=0} \\in [0, S_{max}] \\subset \\mathbb{R}^n\\}$ (Ani says not known how to do with SOS).\n",
    "2. Maximize the minimum $c_min$.  For this, we may want to choose only a subset $c_{i:j}$ where $i,...,j$ represent the coefficients of the basis functions in the middle in front of us, only the ones that we care about not hitting. (Ani says may be possible with SOS).\n",
    "3. Maximize some sphere around a point in $R^n$. May again only want to think about $R^k$ where $k = j - i$. (Ani says can do with SOS).\n",
    "\n",
    "Each element of $\\mathbf{K}$ would be a decision variable our optimization. "
   ]
  },
  {
   "cell_type": "markdown",
   "metadata": {},
   "source": [
    "## Simple 2D, fixed position, rotation-only with a 2D laser scanner\n",
    "\n",
    "Believe that our PDE is:\n",
    "\n",
    "$$ \\frac{\\partial s}{\\partial t} = \\frac{\\partial s}{\\partial \\theta} \\dot{\\psi} $$\n",
    "\n",
    "Where $s(\\theta,t)$ is the distance to an obstacle at time $t$ and angle $\\theta$, and $\\dot{\\psi}$ is the rate of rotation of the vehicle.  If we assume that we can directly control the rate of change, then $u = \\dot{\\psi}$ and we have:\n",
    "\n",
    "$$ \\frac{\\partial s}{\\partial t} = \\frac{\\partial s}{\\partial \\theta} u $$\n"
   ]
  },
  {
   "cell_type": "markdown",
   "metadata": {},
   "source": [
    "**Questions**\n",
    "\n",
    "- How to use SDFs?\n",
    "- Why use image space rather than project out into 2D / 3D?\n",
    "- Getting to SOS?\n",
    "\n",
    "- How do we define what is an obstacle, in terms of $\\mathbf{c}$?\n",
    "\n",
    "- How do we synthesize a controller?\n",
    "\n",
    "- Look up Galerkin approximation?  Turn a PDE into an ODE of basis function coefficients?\n",
    "\n",
    "\n",
    "**Ani's recommendations to implement**\n",
    "\n",
    "- See if the ODE approximation to the PDE actually works well.  Should be able to integrate forward my ODE, and also just simulate my dynamics in the specific implementation of some world, and see how well they match.  Integrate forward with n=10 basis functions.\n",
    "- Pick some small ball, make sure can verify with some hand-designed controllers.  Start with 2 basis functions.\n",
    "\n",
    "**Steps to get there**\n",
    "\n",
    "- Need to build a 2D laser range finder on a spinning platform\n",
    "- Need to simulate the laser range finder, and do raycasting towards obstacle fields\n"
   ]
  },
  {
   "cell_type": "code",
   "execution_count": 1,
   "metadata": {
    "collapsed": false
   },
   "outputs": [
    {
     "name": "stdout",
     "output_type": "stream",
     "text": [
      "13.0\n",
      "-0.8127134594\n",
      "10.4403065089\n",
      "-0.057609055921\n"
     ]
    },
    {
     "data": {
      "image/png": "[encoded data removed]",
      "text/plain": [
       "<matplotlib.figure.Figure at 0x7f86082ac690>"
      ]
     },
     "metadata": {},
     "output_type": "display_data"
    },
    {
     "data": {
      "text/plain": [
       "0"
      ]
     },
     "metadata": {},
     "output_type": "display_data"
    }
   ],
   "source": [
    "import IPython.html.widgets as widgets\n",
    "from IPython.display import display\n",
    "import matplotlib.pyplot as plt\n",
    "import numpy as np\n",
    "\n",
    "%matplotlib inline\n",
    "\n",
    "from planeVis import plotPlane\n",
    "theta_slider = widgets.FloatSlider(min=-90, max=90, step=1, value=0)\n",
    "\n",
    "w=widgets.interactive(plotPlane,theta_deg=theta_slider)\n",
    "display(w)"
   ]
  },
  {
   "cell_type": "code",
   "execution_count": null,
   "metadata": {
    "collapsed": true
   },
   "outputs": [],
   "source": []
  },
  {
   "cell_type": "code",
   "execution_count": null,
   "metadata": {
    "collapsed": true
   },
   "outputs": [],
   "source": []
  }
 ],
 "metadata": {
  "kernelspec": {
   "display_name": "Python 2",
   "language": "python",
   "name": "python2"
  },
  "language_info": {
   "codemirror_mode": {
    "name": "ipython",
    "version": 2
   },
   "file_extension": ".py",
   "mimetype": "text/x-python",
   "name": "python",
   "nbconvert_exporter": "python",
   "pygments_lexer": "ipython2",
   "version": "2.7.10"
  }
 },
 "nbformat": 4,
 "nbformat_minor": 0
}
