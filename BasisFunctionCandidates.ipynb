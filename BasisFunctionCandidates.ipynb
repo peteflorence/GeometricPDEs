{
 "cells": [
  {
   "cell_type": "code",
   "execution_count": 29,
   "metadata": {
    "collapsed": false
   },
   "outputs": [],
   "source": [
    "import numpy as np\n",
    "import matplotlib.pyplot as plt\n",
    "import math\n",
    "\n",
    "x = np.linspace(-math.pi,math.pi,1000)\n",
    "\n",
    "def f(x,a):\n",
    "    sinSq = np.sin((x-a)/2)**2\n",
    "    exp = np.exp(-sinSq)\n",
    "    return exp\n",
    "    \n",
    "# for i in range(0,2):\n",
    "#     y = f(x,i)\n",
    "#     plt.plot(x,y)\n",
    "\n",
    "y = f(x,0)\n",
    "plt.plot(x,y)  \n",
    "# y = f(x,math.pi)\n",
    "# plt.plot(x,y)    \n",
    "    \n",
    "plt.show()\n",
    "\n",
    "\n",
    "\n"
   ]
  },
  {
   "cell_type": "code",
   "execution_count": null,
   "metadata": {
    "collapsed": true
   },
   "outputs": [],
   "source": []
  }
 ],
 "metadata": {
  "kernelspec": {
   "display_name": "Python 2",
   "language": "python",
   "name": "python2"
  },
  "language_info": {
   "codemirror_mode": {
    "name": "ipython",
    "version": 2
   },
   "file_extension": ".py",
   "mimetype": "text/x-python",
   "name": "python",
   "nbconvert_exporter": "python",
   "pygments_lexer": "ipython2",
   "version": "2.7.6"
  }
 },
 "nbformat": 4,
 "nbformat_minor": 0
}
